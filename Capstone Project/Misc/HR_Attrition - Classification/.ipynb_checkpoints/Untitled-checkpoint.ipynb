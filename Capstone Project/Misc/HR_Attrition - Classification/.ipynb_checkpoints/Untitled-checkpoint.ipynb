{
 "cells": [
  {
   "cell_type": "code",
   "execution_count": 1,
   "metadata": {},
   "outputs": [],
   "source": [
    "# https://www.kaggle.com/faressayah/ibm-hr-analytics-employee-attrition-performance\n",
    "# https://www.kaggle.com/anvesh1216/ibm-hr-attrition\n",
    "# https://towardsdatascience.com/how-to-perform-exploratory-data-analysis-with-seaborn-97e3413e841d"
   ]
  },
  {
   "cell_type": "code",
   "execution_count": 3,
   "metadata": {},
   "outputs": [],
   "source": [
    "import numpy as np\n",
    "import pandas as pd\n",
    "import matplotlib.pyplot as plt\n",
    "import seaborn as sns\n",
    "from scipy.stats import norm\n",
    "from sklearn.preprocessing import StandardScaler\n",
    "from scipy import stats\n",
    "import warnings\n",
    "warnings.filterwarnings('ignore')\n",
    "%matplotlib inline"
   ]
  },
  {
   "cell_type": "code",
   "execution_count": 4,
   "metadata": {},
   "outputs": [
    {
     "data": {
      "text/html": [
       "<div>\n",
       "<style scoped>\n",
       "    .dataframe tbody tr th:only-of-type {\n",
       "        vertical-align: middle;\n",
       "    }\n",
       "\n",
       "    .dataframe tbody tr th {\n",
       "        vertical-align: top;\n",
       "    }\n",
       "\n",
       "    .dataframe thead th {\n",
       "        text-align: right;\n",
       "    }\n",
       "</style>\n",
       "<table border=\"1\" class=\"dataframe\">\n",
       "  <thead>\n",
       "    <tr style=\"text-align: right;\">\n",
       "      <th></th>\n",
       "      <th>Age</th>\n",
       "      <th>Attrition</th>\n",
       "      <th>BusinessTravel</th>\n",
       "      <th>DailyRate</th>\n",
       "      <th>Department</th>\n",
       "      <th>DistanceFromHome</th>\n",
       "      <th>Education</th>\n",
       "      <th>EducationField</th>\n",
       "      <th>EmployeeCount</th>\n",
       "      <th>EmployeeNumber</th>\n",
       "      <th>...</th>\n",
       "      <th>RelationshipSatisfaction</th>\n",
       "      <th>StandardHours</th>\n",
       "      <th>StockOptionLevel</th>\n",
       "      <th>TotalWorkingYears</th>\n",
       "      <th>TrainingTimesLastYear</th>\n",
       "      <th>WorkLifeBalance</th>\n",
       "      <th>YearsAtCompany</th>\n",
       "      <th>YearsInCurrentRole</th>\n",
       "      <th>YearsSinceLastPromotion</th>\n",
       "      <th>YearsWithCurrManager</th>\n",
       "    </tr>\n",
       "  </thead>\n",
       "  <tbody>\n",
       "    <tr>\n",
       "      <th>0</th>\n",
       "      <td>41</td>\n",
       "      <td>Yes</td>\n",
       "      <td>Travel_Rarely</td>\n",
       "      <td>1102</td>\n",
       "      <td>Sales</td>\n",
       "      <td>1</td>\n",
       "      <td>2</td>\n",
       "      <td>Life Sciences</td>\n",
       "      <td>1</td>\n",
       "      <td>1</td>\n",
       "      <td>...</td>\n",
       "      <td>1</td>\n",
       "      <td>80</td>\n",
       "      <td>0</td>\n",
       "      <td>8</td>\n",
       "      <td>0</td>\n",
       "      <td>1</td>\n",
       "      <td>6</td>\n",
       "      <td>4</td>\n",
       "      <td>0</td>\n",
       "      <td>5</td>\n",
       "    </tr>\n",
       "    <tr>\n",
       "      <th>1</th>\n",
       "      <td>49</td>\n",
       "      <td>No</td>\n",
       "      <td>Travel_Frequently</td>\n",
       "      <td>279</td>\n",
       "      <td>Research &amp; Development</td>\n",
       "      <td>8</td>\n",
       "      <td>1</td>\n",
       "      <td>Life Sciences</td>\n",
       "      <td>1</td>\n",
       "      <td>2</td>\n",
       "      <td>...</td>\n",
       "      <td>4</td>\n",
       "      <td>80</td>\n",
       "      <td>1</td>\n",
       "      <td>10</td>\n",
       "      <td>3</td>\n",
       "      <td>3</td>\n",
       "      <td>10</td>\n",
       "      <td>7</td>\n",
       "      <td>1</td>\n",
       "      <td>7</td>\n",
       "    </tr>\n",
       "    <tr>\n",
       "      <th>2</th>\n",
       "      <td>37</td>\n",
       "      <td>Yes</td>\n",
       "      <td>Travel_Rarely</td>\n",
       "      <td>1373</td>\n",
       "      <td>Research &amp; Development</td>\n",
       "      <td>2</td>\n",
       "      <td>2</td>\n",
       "      <td>Other</td>\n",
       "      <td>1</td>\n",
       "      <td>3</td>\n",
       "      <td>...</td>\n",
       "      <td>2</td>\n",
       "      <td>80</td>\n",
       "      <td>0</td>\n",
       "      <td>7</td>\n",
       "      <td>3</td>\n",
       "      <td>3</td>\n",
       "      <td>0</td>\n",
       "      <td>0</td>\n",
       "      <td>0</td>\n",
       "      <td>0</td>\n",
       "    </tr>\n",
       "    <tr>\n",
       "      <th>3</th>\n",
       "      <td>33</td>\n",
       "      <td>No</td>\n",
       "      <td>Travel_Frequently</td>\n",
       "      <td>1392</td>\n",
       "      <td>Research &amp; Development</td>\n",
       "      <td>3</td>\n",
       "      <td>4</td>\n",
       "      <td>Life Sciences</td>\n",
       "      <td>1</td>\n",
       "      <td>4</td>\n",
       "      <td>...</td>\n",
       "      <td>3</td>\n",
       "      <td>80</td>\n",
       "      <td>0</td>\n",
       "      <td>8</td>\n",
       "      <td>3</td>\n",
       "      <td>3</td>\n",
       "      <td>8</td>\n",
       "      <td>7</td>\n",
       "      <td>3</td>\n",
       "      <td>0</td>\n",
       "    </tr>\n",
       "    <tr>\n",
       "      <th>4</th>\n",
       "      <td>27</td>\n",
       "      <td>No</td>\n",
       "      <td>Travel_Rarely</td>\n",
       "      <td>591</td>\n",
       "      <td>Research &amp; Development</td>\n",
       "      <td>2</td>\n",
       "      <td>1</td>\n",
       "      <td>Medical</td>\n",
       "      <td>1</td>\n",
       "      <td>5</td>\n",
       "      <td>...</td>\n",
       "      <td>4</td>\n",
       "      <td>80</td>\n",
       "      <td>1</td>\n",
       "      <td>6</td>\n",
       "      <td>3</td>\n",
       "      <td>3</td>\n",
       "      <td>2</td>\n",
       "      <td>2</td>\n",
       "      <td>2</td>\n",
       "      <td>2</td>\n",
       "    </tr>\n",
       "  </tbody>\n",
       "</table>\n",
       "<p>5 rows × 35 columns</p>\n",
       "</div>"
      ],
      "text/plain": [
       "   Age Attrition     BusinessTravel  DailyRate              Department  \\\n",
       "0   41       Yes      Travel_Rarely       1102                   Sales   \n",
       "1   49        No  Travel_Frequently        279  Research & Development   \n",
       "2   37       Yes      Travel_Rarely       1373  Research & Development   \n",
       "3   33        No  Travel_Frequently       1392  Research & Development   \n",
       "4   27        No      Travel_Rarely        591  Research & Development   \n",
       "\n",
       "   DistanceFromHome  Education EducationField  EmployeeCount  EmployeeNumber  \\\n",
       "0                 1          2  Life Sciences              1               1   \n",
       "1                 8          1  Life Sciences              1               2   \n",
       "2                 2          2          Other              1               3   \n",
       "3                 3          4  Life Sciences              1               4   \n",
       "4                 2          1        Medical              1               5   \n",
       "\n",
       "   ...  RelationshipSatisfaction StandardHours  StockOptionLevel  \\\n",
       "0  ...                         1            80                 0   \n",
       "1  ...                         4            80                 1   \n",
       "2  ...                         2            80                 0   \n",
       "3  ...                         3            80                 0   \n",
       "4  ...                         4            80                 1   \n",
       "\n",
       "   TotalWorkingYears  TrainingTimesLastYear WorkLifeBalance  YearsAtCompany  \\\n",
       "0                  8                      0               1               6   \n",
       "1                 10                      3               3              10   \n",
       "2                  7                      3               3               0   \n",
       "3                  8                      3               3               8   \n",
       "4                  6                      3               3               2   \n",
       "\n",
       "  YearsInCurrentRole  YearsSinceLastPromotion  YearsWithCurrManager  \n",
       "0                  4                        0                     5  \n",
       "1                  7                        1                     7  \n",
       "2                  0                        0                     0  \n",
       "3                  7                        3                     0  \n",
       "4                  2                        2                     2  \n",
       "\n",
       "[5 rows x 35 columns]"
      ]
     },
     "execution_count": 4,
     "metadata": {},
     "output_type": "execute_result"
    }
   ],
   "source": [
    "raw = pd.read_csv(\"C:/Users/Subir/Learn Bay/Dataset/HR_Employee_Attrition_Data.csv\") \n",
    "raw.head()"
   ]
  },
  {
   "cell_type": "code",
   "execution_count": 5,
   "metadata": {},
   "outputs": [
    {
     "name": "stdout",
     "output_type": "stream",
     "text": [
      "<class 'pandas.core.frame.DataFrame'>\n",
      "RangeIndex: 2940 entries, 0 to 2939\n",
      "Data columns (total 35 columns):\n",
      " #   Column                    Non-Null Count  Dtype \n",
      "---  ------                    --------------  ----- \n",
      " 0   Age                       2940 non-null   int64 \n",
      " 1   Attrition                 2940 non-null   object\n",
      " 2   BusinessTravel            2940 non-null   object\n",
      " 3   DailyRate                 2940 non-null   int64 \n",
      " 4   Department                2940 non-null   object\n",
      " 5   DistanceFromHome          2940 non-null   int64 \n",
      " 6   Education                 2940 non-null   int64 \n",
      " 7   EducationField            2940 non-null   object\n",
      " 8   EmployeeCount             2940 non-null   int64 \n",
      " 9   EmployeeNumber            2940 non-null   int64 \n",
      " 10  EnvironmentSatisfaction   2940 non-null   int64 \n",
      " 11  Gender                    2940 non-null   object\n",
      " 12  HourlyRate                2940 non-null   int64 \n",
      " 13  JobInvolvement            2940 non-null   int64 \n",
      " 14  JobLevel                  2940 non-null   int64 \n",
      " 15  JobRole                   2940 non-null   object\n",
      " 16  JobSatisfaction           2940 non-null   int64 \n",
      " 17  MaritalStatus             2940 non-null   object\n",
      " 18  MonthlyIncome             2940 non-null   int64 \n",
      " 19  MonthlyRate               2940 non-null   int64 \n",
      " 20  NumCompaniesWorked        2940 non-null   int64 \n",
      " 21  Over18                    2940 non-null   object\n",
      " 22  OverTime                  2940 non-null   object\n",
      " 23  PercentSalaryHike         2940 non-null   int64 \n",
      " 24  PerformanceRating         2940 non-null   int64 \n",
      " 25  RelationshipSatisfaction  2940 non-null   int64 \n",
      " 26  StandardHours             2940 non-null   int64 \n",
      " 27  StockOptionLevel          2940 non-null   int64 \n",
      " 28  TotalWorkingYears         2940 non-null   int64 \n",
      " 29  TrainingTimesLastYear     2940 non-null   int64 \n",
      " 30  WorkLifeBalance           2940 non-null   int64 \n",
      " 31  YearsAtCompany            2940 non-null   int64 \n",
      " 32  YearsInCurrentRole        2940 non-null   int64 \n",
      " 33  YearsSinceLastPromotion   2940 non-null   int64 \n",
      " 34  YearsWithCurrManager      2940 non-null   int64 \n",
      "dtypes: int64(26), object(9)\n",
      "memory usage: 700.6+ KB\n"
     ]
    }
   ],
   "source": [
    "# To check missing data or use df.isnull().sum()\n",
    "# To check number of numerical and categorical dtypes.\n",
    "# To check number of rows and columns.\n",
    "raw.info()"
   ]
  },
  {
   "cell_type": "code",
   "execution_count": 6,
   "metadata": {},
   "outputs": [
    {
     "name": "stdout",
     "output_type": "stream",
     "text": [
      "Age:43\n",
      "Attrition:2\n",
      "BusinessTravel:3\n",
      "DailyRate:886\n",
      "Department:3\n",
      "DistanceFromHome:29\n",
      "Education:5\n",
      "EducationField:6\n",
      "EmployeeCount:1\n",
      "EmployeeNumber:2940\n",
      "EnvironmentSatisfaction:4\n",
      "Gender:2\n",
      "HourlyRate:71\n",
      "JobInvolvement:4\n",
      "JobLevel:5\n",
      "JobRole:9\n",
      "JobSatisfaction:4\n",
      "MaritalStatus:3\n",
      "MonthlyIncome:1349\n",
      "MonthlyRate:1427\n",
      "NumCompaniesWorked:10\n",
      "Over18:1\n",
      "OverTime:2\n",
      "PercentSalaryHike:15\n",
      "PerformanceRating:2\n",
      "RelationshipSatisfaction:4\n",
      "StandardHours:1\n",
      "StockOptionLevel:4\n",
      "TotalWorkingYears:40\n",
      "TrainingTimesLastYear:7\n",
      "WorkLifeBalance:4\n",
      "YearsAtCompany:37\n",
      "YearsInCurrentRole:19\n",
      "YearsSinceLastPromotion:16\n",
      "YearsWithCurrManager:18\n"
     ]
    }
   ],
   "source": [
    "# Check unique values\n",
    "for column in raw.columns:\n",
    "    print(f\"{column}:{raw[column].nunique()}\")"
   ]
  },
  {
   "cell_type": "code",
   "execution_count": 7,
   "metadata": {},
   "outputs": [],
   "source": [
    "# Drop unessary columns\n",
    "df = raw.drop(columns=['EmployeeCount','Over18','StandardHours','EmployeeNumber'])"
   ]
  },
  {
   "cell_type": "code",
   "execution_count": 8,
   "metadata": {},
   "outputs": [
    {
     "data": {
      "text/plain": [
       "No     2466\n",
       "Yes     474\n",
       "Name: Attrition, dtype: int64"
      ]
     },
     "execution_count": 8,
     "metadata": {},
     "output_type": "execute_result"
    }
   ],
   "source": [
    "#Show how much % of employees left the organization\n",
    "df.Attrition.value_counts(normalize=True)\n",
    "df.Attrition.value_counts()"
   ]
  },
  {
   "cell_type": "markdown",
   "metadata": {},
   "source": [
    "# 1. EDA"
   ]
  },
  {
   "cell_type": "markdown",
   "metadata": {},
   "source": [
    "# 1.1  Categorical Features"
   ]
  },
  {
   "cell_type": "code",
   "execution_count": 9,
   "metadata": {
    "scrolled": true
   },
   "outputs": [
    {
     "data": {
      "text/html": [
       "<div>\n",
       "<style scoped>\n",
       "    .dataframe tbody tr th:only-of-type {\n",
       "        vertical-align: middle;\n",
       "    }\n",
       "\n",
       "    .dataframe tbody tr th {\n",
       "        vertical-align: top;\n",
       "    }\n",
       "\n",
       "    .dataframe thead th {\n",
       "        text-align: right;\n",
       "    }\n",
       "</style>\n",
       "<table border=\"1\" class=\"dataframe\">\n",
       "  <thead>\n",
       "    <tr style=\"text-align: right;\">\n",
       "      <th></th>\n",
       "      <th>count</th>\n",
       "      <th>unique</th>\n",
       "      <th>top</th>\n",
       "      <th>freq</th>\n",
       "    </tr>\n",
       "  </thead>\n",
       "  <tbody>\n",
       "    <tr>\n",
       "      <th>Attrition</th>\n",
       "      <td>2940</td>\n",
       "      <td>2</td>\n",
       "      <td>No</td>\n",
       "      <td>2466</td>\n",
       "    </tr>\n",
       "    <tr>\n",
       "      <th>BusinessTravel</th>\n",
       "      <td>2940</td>\n",
       "      <td>3</td>\n",
       "      <td>Travel_Rarely</td>\n",
       "      <td>2086</td>\n",
       "    </tr>\n",
       "    <tr>\n",
       "      <th>Department</th>\n",
       "      <td>2940</td>\n",
       "      <td>3</td>\n",
       "      <td>Research &amp; Development</td>\n",
       "      <td>1922</td>\n",
       "    </tr>\n",
       "    <tr>\n",
       "      <th>EducationField</th>\n",
       "      <td>2940</td>\n",
       "      <td>6</td>\n",
       "      <td>Life Sciences</td>\n",
       "      <td>1212</td>\n",
       "    </tr>\n",
       "    <tr>\n",
       "      <th>Gender</th>\n",
       "      <td>2940</td>\n",
       "      <td>2</td>\n",
       "      <td>Male</td>\n",
       "      <td>1764</td>\n",
       "    </tr>\n",
       "    <tr>\n",
       "      <th>JobRole</th>\n",
       "      <td>2940</td>\n",
       "      <td>9</td>\n",
       "      <td>Sales Executive</td>\n",
       "      <td>652</td>\n",
       "    </tr>\n",
       "    <tr>\n",
       "      <th>MaritalStatus</th>\n",
       "      <td>2940</td>\n",
       "      <td>3</td>\n",
       "      <td>Married</td>\n",
       "      <td>1346</td>\n",
       "    </tr>\n",
       "    <tr>\n",
       "      <th>OverTime</th>\n",
       "      <td>2940</td>\n",
       "      <td>2</td>\n",
       "      <td>No</td>\n",
       "      <td>2108</td>\n",
       "    </tr>\n",
       "  </tbody>\n",
       "</table>\n",
       "</div>"
      ],
      "text/plain": [
       "               count unique                     top  freq\n",
       "Attrition       2940      2                      No  2466\n",
       "BusinessTravel  2940      3           Travel_Rarely  2086\n",
       "Department      2940      3  Research & Development  1922\n",
       "EducationField  2940      6           Life Sciences  1212\n",
       "Gender          2940      2                    Male  1764\n",
       "JobRole         2940      9         Sales Executive   652\n",
       "MaritalStatus   2940      3                 Married  1346\n",
       "OverTime        2940      2                      No  2108"
      ]
     },
     "execution_count": 9,
     "metadata": {},
     "output_type": "execute_result"
    }
   ],
   "source": [
    "df.describe(include=['object']).T #transpose()"
   ]
  },
  {
   "cell_type": "code",
   "execution_count": 10,
   "metadata": {},
   "outputs": [
    {
     "name": "stdout",
     "output_type": "stream",
     "text": [
      "Attrition  Attrition\n",
      "No         No           2466\n",
      "Yes        Yes           474\n",
      "Name: Attrition, dtype: int64\n",
      "\n",
      "\n",
      "Attrition  BusinessTravel   \n",
      "No         Travel_Rarely        1774\n",
      "           Travel_Frequently     416\n",
      "           Non-Travel            276\n",
      "Yes        Travel_Rarely         312\n",
      "           Travel_Frequently     138\n",
      "           Non-Travel             24\n",
      "Name: BusinessTravel, dtype: int64\n",
      "\n",
      "\n",
      "Attrition  Department            \n",
      "No         Research & Development    1656\n",
      "           Sales                      708\n",
      "           Human Resources            102\n",
      "Yes        Research & Development     266\n",
      "           Sales                      184\n",
      "           Human Resources             24\n",
      "Name: Department, dtype: int64\n",
      "\n",
      "\n",
      "Attrition  DistanceFromHome\n",
      "No         2                   366\n",
      "           1                   364\n",
      "           10                  150\n",
      "           7                   146\n",
      "           3                   140\n",
      "           8                   140\n",
      "           9                   134\n",
      "           4                   110\n",
      "           5                   110\n",
      "           6                   104\n",
      "           11                   50\n",
      "           16                   50\n",
      "           18                   44\n",
      "           23                   44\n",
      "           26                   44\n",
      "           29                   44\n",
      "           15                   42\n",
      "           20                   42\n",
      "           28                   42\n",
      "           19                   38\n",
      "           25                   38\n",
      "           14                   34\n",
      "           24                   32\n",
      "           17                   30\n",
      "           21                   30\n",
      "           12                   28\n",
      "           13                   26\n",
      "           22                   26\n",
      "           27                   18\n",
      "Yes        2                    56\n",
      "           1                    52\n",
      "           9                    36\n",
      "           3                    28\n",
      "           24                   24\n",
      "           7                    22\n",
      "           10                   22\n",
      "           5                    20\n",
      "           8                    20\n",
      "           4                    18\n",
      "           6                    14\n",
      "           16                   14\n",
      "           12                   12\n",
      "           13                   12\n",
      "           22                   12\n",
      "           25                   12\n",
      "           15                   10\n",
      "           17                   10\n",
      "           23                   10\n",
      "           29                   10\n",
      "           11                    8\n",
      "           14                    8\n",
      "           18                    8\n",
      "           20                    8\n",
      "           19                    6\n",
      "           21                    6\n",
      "           26                    6\n",
      "           27                    6\n",
      "           28                    4\n",
      "Name: DistanceFromHome, dtype: int64\n",
      "\n",
      "\n",
      "Attrition  Education\n",
      "No         3            946\n",
      "           4            680\n",
      "           2            476\n",
      "           1            278\n",
      "           5             86\n",
      "Yes        3            198\n",
      "           4            116\n",
      "           2             88\n",
      "           1             62\n",
      "           5             10\n",
      "Name: Education, dtype: int64\n",
      "\n",
      "\n",
      "Attrition  EducationField  \n",
      "No         Life Sciences       1034\n",
      "           Medical              802\n",
      "           Marketing            248\n",
      "           Technical Degree     200\n",
      "           Other                142\n",
      "           Human Resources       40\n",
      "Yes        Life Sciences        178\n",
      "           Medical              126\n",
      "           Marketing             70\n",
      "           Technical Degree      64\n",
      "           Other                 22\n",
      "           Human Resources       14\n",
      "Name: EducationField, dtype: int64\n",
      "\n",
      "\n",
      "Attrition  EnvironmentSatisfaction\n",
      "No         3                          782\n",
      "           4                          772\n",
      "           2                          488\n",
      "           1                          424\n",
      "Yes        1                          144\n",
      "           3                          124\n",
      "           4                          120\n",
      "           2                           86\n",
      "Name: EnvironmentSatisfaction, dtype: int64\n",
      "\n",
      "\n",
      "Attrition  Gender\n",
      "No         Male      1464\n",
      "           Female    1002\n",
      "Yes        Male       300\n",
      "           Female     174\n",
      "Name: Gender, dtype: int64\n",
      "\n",
      "\n",
      "Attrition  JobInvolvement\n",
      "No         3                 1486\n",
      "           2                  608\n",
      "           4                  262\n",
      "           1                  110\n",
      "Yes        3                  250\n",
      "           2                  142\n",
      "           1                   56\n",
      "           4                   26\n",
      "Name: JobInvolvement, dtype: int64\n",
      "\n",
      "\n",
      "Attrition  JobLevel\n",
      "No         2           964\n",
      "           1           800\n",
      "           3           372\n",
      "           4           202\n",
      "           5           128\n",
      "Yes        1           286\n",
      "           2           104\n",
      "           3            64\n",
      "           4            10\n",
      "           5            10\n",
      "Name: JobLevel, dtype: int64\n",
      "\n",
      "\n",
      "Attrition  JobRole                  \n",
      "No         Sales Executive              538\n",
      "           Research Scientist           490\n",
      "           Laboratory Technician        394\n",
      "           Manufacturing Director       270\n",
      "           Healthcare Representative    244\n",
      "           Manager                      194\n",
      "           Research Director            156\n",
      "           Sales Representative         100\n",
      "           Human Resources               80\n",
      "Yes        Laboratory Technician        124\n",
      "           Sales Executive              114\n",
      "           Research Scientist            94\n",
      "           Sales Representative          66\n",
      "           Human Resources               24\n",
      "           Manufacturing Director        20\n",
      "           Healthcare Representative     18\n",
      "           Manager                       10\n",
      "           Research Director              4\n",
      "Name: JobRole, dtype: int64\n",
      "\n",
      "\n",
      "Attrition  JobSatisfaction\n",
      "No         4                  814\n",
      "           3                  738\n",
      "           2                  468\n",
      "           1                  446\n",
      "Yes        3                  146\n",
      "           1                  132\n",
      "           4                  104\n",
      "           2                   92\n",
      "Name: JobSatisfaction, dtype: int64\n",
      "\n",
      "\n",
      "Attrition  MaritalStatus\n",
      "No         Married          1178\n",
      "           Single            700\n",
      "           Divorced          588\n",
      "Yes        Single            240\n",
      "           Married           168\n",
      "           Divorced           66\n",
      "Name: MaritalStatus, dtype: int64\n",
      "\n",
      "\n",
      "Attrition  NumCompaniesWorked\n",
      "No         1                     846\n",
      "           0                     348\n",
      "           3                     286\n",
      "           2                     260\n",
      "           4                     244\n",
      "           7                     114\n",
      "           6                     108\n",
      "           5                      94\n",
      "           8                      86\n",
      "           9                      80\n",
      "Yes        1                     196\n",
      "           0                      46\n",
      "           4                      34\n",
      "           7                      34\n",
      "           2                      32\n",
      "           3                      32\n",
      "           5                      32\n",
      "           6                      32\n",
      "           9                      24\n",
      "           8                      12\n",
      "Name: NumCompaniesWorked, dtype: int64\n",
      "\n",
      "\n",
      "Attrition  OverTime\n",
      "No         No          1888\n",
      "           Yes          578\n",
      "Yes        Yes          254\n",
      "           No           220\n",
      "Name: OverTime, dtype: int64\n",
      "\n",
      "\n",
      "Attrition  PercentSalaryHike\n",
      "No         14                   354\n",
      "           13                   350\n",
      "           11                   338\n",
      "           12                   330\n",
      "           15                   166\n",
      "           18                   152\n",
      "           17                   136\n",
      "           19                   134\n",
      "           16                   128\n",
      "           20                    96\n",
      "           22                    88\n",
      "           21                    86\n",
      "           23                    44\n",
      "           25                    34\n",
      "           24                    30\n",
      "Yes        11                    82\n",
      "           13                    68\n",
      "           12                    66\n",
      "           14                    48\n",
      "           15                    36\n",
      "           16                    28\n",
      "           17                    28\n",
      "           18                    26\n",
      "           22                    24\n",
      "           19                    18\n",
      "           20                    14\n",
      "           23                    12\n",
      "           24                    12\n",
      "           21                    10\n",
      "           25                     2\n",
      "Name: PercentSalaryHike, dtype: int64\n",
      "\n",
      "\n",
      "Attrition  PerformanceRating\n",
      "No         3                    2088\n",
      "           4                     378\n",
      "Yes        3                     400\n",
      "           4                      74\n",
      "Name: PerformanceRating, dtype: int64\n",
      "\n",
      "\n",
      "Attrition  RelationshipSatisfaction\n",
      "No         3                           776\n",
      "           4                           736\n",
      "           2                           516\n",
      "           1                           438\n",
      "Yes        3                           142\n",
      "           4                           128\n",
      "           1                           114\n",
      "           2                            90\n",
      "Name: RelationshipSatisfaction, dtype: int64\n",
      "\n",
      "\n",
      "Attrition  StockOptionLevel\n",
      "No         1                   1080\n",
      "           0                    954\n",
      "           2                    292\n",
      "           3                    140\n",
      "Yes        0                    308\n",
      "           1                    112\n",
      "           3                     30\n",
      "           2                     24\n",
      "Name: StockOptionLevel, dtype: int64\n",
      "\n",
      "\n",
      "Attrition  TrainingTimesLastYear\n",
      "No         2                        898\n",
      "           3                        844\n",
      "           5                        210\n",
      "           4                        194\n",
      "           1                        124\n",
      "           6                        118\n",
      "           0                         78\n",
      "Yes        2                        196\n",
      "           3                        138\n",
      "           4                         52\n",
      "           0                         30\n",
      "           5                         28\n",
      "           1                         18\n",
      "           6                         12\n"
     ]
    },
    {
     "name": "stdout",
     "output_type": "stream",
     "text": [
      "Name: TrainingTimesLastYear, dtype: int64\n",
      "\n",
      "\n",
      "Attrition  WorkLifeBalance\n",
      "No         3                  1532\n",
      "           2                   572\n",
      "           4                   252\n",
      "           1                   110\n",
      "Yes        3                   254\n",
      "           2                   116\n",
      "           4                    54\n",
      "           1                    50\n",
      "Name: WorkLifeBalance, dtype: int64\n",
      "\n",
      "\n",
      "Attrition  YearsInCurrentRole\n",
      "No         2                     608\n",
      "           7                     382\n",
      "           0                     342\n",
      "           3                     238\n",
      "           4                     178\n",
      "           8                     164\n",
      "           9                     122\n",
      "           1                      92\n",
      "           5                      70\n",
      "           6                      70\n",
      "           10                     54\n",
      "           11                     44\n",
      "           13                     26\n",
      "           14                     20\n",
      "           12                     18\n",
      "           16                     14\n",
      "           15                     12\n",
      "           17                      8\n",
      "           18                      4\n",
      "Yes        0                     146\n",
      "           2                     136\n",
      "           7                      62\n",
      "           3                      32\n",
      "           4                      30\n",
      "           1                      22\n",
      "           8                      14\n",
      "           9                      12\n",
      "           6                       4\n",
      "           10                      4\n",
      "           15                      4\n",
      "           5                       2\n",
      "           12                      2\n",
      "           13                      2\n",
      "           14                      2\n",
      "Name: YearsInCurrentRole, dtype: int64\n",
      "\n",
      "\n",
      "Attrition  YearsSinceLastPromotion\n",
      "No         0                          942\n",
      "           1                          616\n",
      "           2                          264\n",
      "           7                          120\n",
      "           4                          112\n",
      "           3                           86\n",
      "           5                           86\n",
      "           6                           52\n",
      "           11                          44\n",
      "           8                           36\n",
      "           9                           26\n",
      "           12                          20\n",
      "           15                          20\n",
      "           13                          16\n",
      "           14                          16\n",
      "           10                          10\n",
      "Yes        0                          220\n",
      "           1                           98\n",
      "           2                           54\n",
      "           7                           32\n",
      "           3                           18\n",
      "           6                           12\n",
      "           4                           10\n",
      "           9                            8\n",
      "           15                           6\n",
      "           5                            4\n",
      "           11                           4\n",
      "           13                           4\n",
      "           10                           2\n",
      "           14                           2\n",
      "Name: YearsSinceLastPromotion, dtype: int64\n",
      "\n",
      "\n",
      "Attrition  YearsWithCurrManager\n",
      "No         2                       588\n",
      "           7                       370\n",
      "           0                       356\n",
      "           3                       246\n",
      "           8                       194\n",
      "           4                       174\n",
      "           1                       130\n",
      "           9                       116\n",
      "           5                        54\n",
      "           6                        50\n",
      "           10                       48\n",
      "           11                       42\n",
      "           12                       36\n",
      "           13                       28\n",
      "           17                       14\n",
      "           15                       10\n",
      "           14                        6\n",
      "           16                        4\n",
      "Yes        0                       170\n",
      "           2                       100\n",
      "           7                        62\n",
      "           3                        38\n",
      "           1                        22\n",
      "           4                        22\n",
      "           8                        20\n",
      "           9                        12\n",
      "           5                         8\n",
      "           6                         8\n",
      "           10                        6\n",
      "           14                        4\n",
      "           11                        2\n",
      "Name: YearsWithCurrManager, dtype: int64\n",
      "\n",
      "\n"
     ]
    },
    {
     "data": {
      "text/plain": [
       "24"
      ]
     },
     "execution_count": 10,
     "metadata": {},
     "output_type": "execute_result"
    }
   ],
   "source": [
    "cat = []\n",
    "for a in df.columns:\n",
    "    if df[a].nunique() <= 30:\n",
    "        cat.append(a)\n",
    "        print(df.groupby(by='Attrition')[a].value_counts())\n",
    "        print(\"\\n\")\n",
    "len(cat)"
   ]
  },
  {
   "cell_type": "code",
   "execution_count": null,
   "metadata": {
    "scrolled": false
   },
   "outputs": [
    {
     "data": {
      "image/png": "[encoded data removed]",
      "text/plain": [
       "<Figure size 432x288 with 1 Axes>"
      ]
     },
     "metadata": {},
     "output_type": "display_data"
    },
    {
     "data": {
      "image/png": "[encoded data removed]",
      "text/plain": [
       "<Figure size 432x288 with 1 Axes>"
      ]
     },
     "metadata": {},
     "output_type": "display_data"
    },
    {
     "data": {
      "image/png": "[encoded data removed]",
      "text/plain": [
       "<Figure size 432x288 with 1 Axes>"
      ]
     },
     "metadata": {},
     "output_type": "display_data"
    },
    {
     "data": {
      "image/png": "[encoded data removed]",
      "text/plain": [
       "<Figure size 432x288 with 1 Axes>"
      ]
     },
     "metadata": {},
     "output_type": "display_data"
    },
    {
     "data": {
      "image/png": "[encoded data removed]",
      "text/plain": [
       "<Figure size 432x288 with 1 Axes>"
      ]
     },
     "metadata": {},
     "output_type": "display_data"
    },
    {
     "data": {
      "image/png": "[encoded data removed]",
      "text/plain": [
       "<Figure size 432x288 with 1 Axes>"
      ]
     },
     "metadata": {},
     "output_type": "display_data"
    },
    {
     "data": {
      "image/png": "[encoded data removed]",
      "text/plain": [
       "<Figure size 432x288 with 1 Axes>"
      ]
     },
     "metadata": {},
     "output_type": "display_data"
    },
    {
     "data": {
      "image/png": "[encoded data removed]",
      "text/plain": [
       "<Figure size 432x288 with 1 Axes>"
      ]
     },
     "metadata": {},
     "output_type": "display_data"
    },
    {
     "data": {
      "image/png": "[encoded data removed]",
      "text/plain": [
       "<Figure size 432x288 with 1 Axes>"
      ]
     },
     "metadata": {},
     "output_type": "display_data"
    },
    {
     "data": {
      "image/png": "[encoded data removed]",
      "text/plain": [
       "<Figure size 432x288 with 1 Axes>"
      ]
     },
     "metadata": {},
     "output_type": "display_data"
    },
    {
     "data": {
      "image/png": "[encoded data removed]",
      "text/plain": [
       "<Figure size 432x288 with 1 Axes>"
      ]
     },
     "metadata": {},
     "output_type": "display_data"
    },
    {
     "data": {
      "image/png": "[encoded data removed]",
      "text/plain": [
       "<Figure size 432x288 with 1 Axes>"
      ]
     },
     "metadata": {},
     "output_type": "display_data"
    },
    {
     "data": {
      "image/png": "[encoded data removed]",
      "text/plain": [
       "<Figure size 432x288 with 1 Axes>"
      ]
     },
     "metadata": {},
     "output_type": "display_data"
    },
    {
     "data": {
      "image/png": "[encoded data removed]",
      "text/plain": [
       "<Figure size 432x288 with 1 Axes>"
      ]
     },
     "metadata": {},
     "output_type": "display_data"
    },
    {
     "data": {
      "image/png": "[encoded data removed]",
      "text/plain": [
       "<Figure size 432x288 with 1 Axes>"
      ]
     },
     "metadata": {},
     "output_type": "display_data"
    },
    {
     "data": {
      "image/png": "[encoded data removed]",
      "text/plain": [
       "<Figure size 432x288 with 1 Axes>"
      ]
     },
     "metadata": {},
     "output_type": "display_data"
    },
    {
     "data": {
      "image/png": "[encoded data removed]",
      "text/plain": [
       "<Figure size 432x288 with 1 Axes>"
      ]
     },
     "metadata": {},
     "output_type": "display_data"
    },
    {
     "data": {
      "image/png": "[encoded data removed]",
      "text/plain": [
       "<Figure size 432x288 with 1 Axes>"
      ]
     },
     "metadata": {},
     "output_type": "display_data"
    },
    {
     "data": {
      "image/png": "[encoded data removed]",
      "text/plain": [
       "<Figure size 432x288 with 1 Axes>"
      ]
     },
     "metadata": {},
     "output_type": "display_data"
    },
    {
     "data": {
      "image/png": "[encoded data removed]",
      "text/plain": [
       "<Figure size 432x288 with 1 Axes>"
      ]
     },
     "metadata": {},
     "output_type": "display_data"
    },
    {
     "data": {
      "image/png": "[encoded data removed]",
      "text/plain": [
       "<Figure size 432x288 with 1 Axes>"
      ]
     },
     "metadata": {},
     "output_type": "display_data"
    }
   ],
   "source": [
    "for j in cat:\n",
    "    sns.set_style('whitegrid')\n",
    "    sns.countplot(x=j,data=df)\n",
    "    plt.figure()\n"
   ]
  },
  {
   "cell_type": "markdown",
   "metadata": {},
   "source": [
    "# 1.2  Numerical Features"
   ]
  },
  {
   "cell_type": "code",
   "execution_count": null,
   "metadata": {},
   "outputs": [],
   "source": [
    "df.describe(include= ['number']).transpose()"
   ]
  },
  {
   "cell_type": "code",
   "execution_count": null,
   "metadata": {},
   "outputs": [],
   "source": [
    "num = []\n",
    "for k in df.columns:\n",
    "      if df[k].nunique() > 10:\n",
    "            num.append(k)      \n",
    "df[num].hist(figsize=(20,20))"
   ]
  },
  {
   "cell_type": "markdown",
   "metadata": {},
   "source": [
    "# 3. Corr"
   ]
  },
  {
   "cell_type": "code",
   "execution_count": null,
   "metadata": {},
   "outputs": [],
   "source": [
    "df_num = df.select_dtypes(include=['number'])   "
   ]
  },
  {
   "cell_type": "code",
   "execution_count": null,
   "metadata": {},
   "outputs": [],
   "source": [
    "plt.figure(figsize=(25,25))\n",
    "sns.heatmap(df_num.corr(), annot=True,cmap=\"RdYlGn\", annot_kws={\"size\":15})"
   ]
  },
  {
   "cell_type": "code",
   "execution_count": null,
   "metadata": {},
   "outputs": [],
   "source": [
    "df.select_dtypes(include=['number']) "
   ]
  },
  {
   "cell_type": "code",
   "execution_count": null,
   "metadata": {},
   "outputs": [],
   "source": [
    "#Replacing Yes with 1 and No with 0 in Attrition Column\n",
    "hr_data['Attrition']=np.where(hr_data['Attrition']=='No', #condition\n",
    "                 0, #value if condition is true\n",
    "                 1)"
   ]
  },
  {
   "cell_type": "code",
   "execution_count": null,
   "metadata": {},
   "outputs": [],
   "source": []
  }
 ],
 "metadata": {
  "kernelspec": {
   "display_name": "Python 3",
   "language": "python",
   "name": "python3"
  },
  "language_info": {
   "codemirror_mode": {
    "name": "ipython",
    "version": 3
   },
   "file_extension": ".py",
   "mimetype": "text/x-python",
   "name": "python",
   "nbconvert_exporter": "python",
   "pygments_lexer": "ipython3",
   "version": "3.7.6"
  }
 },
 "nbformat": 4,
 "nbformat_minor": 4
}
