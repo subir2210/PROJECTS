{
 "cells": [
  {
   "cell_type": "code",
   "execution_count": 1,
   "metadata": {},
   "outputs": [],
   "source": [
    "import pandas as pd\n",
    "import numpy as np\n",
    "import seaborn as sns\n",
    "import matplotlib.pyplot as plt\n",
    "import warnings\n",
    "from statistics import median\n",
    "from scipy.stats import iqr\n",
    "\n",
    "pd.set_option('display.max_columns', None)\n",
    "warnings.filterwarnings('ignore')"
   ]
  },
  {
   "cell_type": "markdown",
   "metadata": {},
   "source": [
    "### Problem statement - bmw car price prediction model (best possible features for good predictive model)\n",
    "     - engine_capacity\n",
    "     - types of fuel (diesel cars are costly; )\n",
    "     - color /paint of the car\n",
    "     - no. of seaters\n",
    "     - mileage \n",
    "     - model type\n",
    "     - safety features (low/medium/large)\n",
    "     - date of selling (seasonality)\n",
    "     - IsAutomative (yes/no)\n",
    "     - \n",
    "     --- second hand cars\n",
    "     - distance travelled \n",
    "     - mileage \n",
    "     - age of the car\n",
    "     - warrenty flag\n",
    "     - insurance flag\n",
    "     - condition (poor/ok/good)"
   ]
  },
  {
   "cell_type": "code",
   "execution_count": 2,
   "metadata": {},
   "outputs": [
    {
     "name": "stdout",
     "output_type": "stream",
     "text": [
      "(4843, 18)\n"
     ]
    }
   ],
   "source": [
    "df = pd.read_csv('bmw_pricing_challenge.csv')\n",
    "print(df.shape)\n",
    "# df.info()"
   ]
  },
  {
   "cell_type": "code",
   "execution_count": 3,
   "metadata": {},
   "outputs": [
    {
     "data": {
      "text/html": [
       "<div>\n",
       "<style scoped>\n",
       "    .dataframe tbody tr th:only-of-type {\n",
       "        vertical-align: middle;\n",
       "    }\n",
       "\n",
       "    .dataframe tbody tr th {\n",
       "        vertical-align: top;\n",
       "    }\n",
       "\n",
       "    .dataframe thead th {\n",
       "        text-align: right;\n",
       "    }\n",
       "</style>\n",
       "<table border=\"1\" class=\"dataframe\">\n",
       "  <thead>\n",
       "    <tr style=\"text-align: right;\">\n",
       "      <th></th>\n",
       "      <th>mileage</th>\n",
       "      <th>engine_power</th>\n",
       "      <th>price</th>\n",
       "    </tr>\n",
       "  </thead>\n",
       "  <tbody>\n",
       "    <tr>\n",
       "      <th>count</th>\n",
       "      <td>4.843000e+03</td>\n",
       "      <td>4843.00000</td>\n",
       "      <td>4843.000000</td>\n",
       "    </tr>\n",
       "    <tr>\n",
       "      <th>mean</th>\n",
       "      <td>1.409628e+05</td>\n",
       "      <td>128.98823</td>\n",
       "      <td>15828.081767</td>\n",
       "    </tr>\n",
       "    <tr>\n",
       "      <th>std</th>\n",
       "      <td>6.019674e+04</td>\n",
       "      <td>38.99336</td>\n",
       "      <td>9220.285684</td>\n",
       "    </tr>\n",
       "    <tr>\n",
       "      <th>min</th>\n",
       "      <td>-6.400000e+01</td>\n",
       "      <td>0.00000</td>\n",
       "      <td>100.000000</td>\n",
       "    </tr>\n",
       "    <tr>\n",
       "      <th>25%</th>\n",
       "      <td>1.029135e+05</td>\n",
       "      <td>100.00000</td>\n",
       "      <td>10800.000000</td>\n",
       "    </tr>\n",
       "    <tr>\n",
       "      <th>50%</th>\n",
       "      <td>1.410800e+05</td>\n",
       "      <td>120.00000</td>\n",
       "      <td>14200.000000</td>\n",
       "    </tr>\n",
       "    <tr>\n",
       "      <th>75%</th>\n",
       "      <td>1.751955e+05</td>\n",
       "      <td>135.00000</td>\n",
       "      <td>18600.000000</td>\n",
       "    </tr>\n",
       "    <tr>\n",
       "      <th>max</th>\n",
       "      <td>1.000376e+06</td>\n",
       "      <td>423.00000</td>\n",
       "      <td>178500.000000</td>\n",
       "    </tr>\n",
       "  </tbody>\n",
       "</table>\n",
       "</div>"
      ],
      "text/plain": [
       "            mileage  engine_power          price\n",
       "count  4.843000e+03    4843.00000    4843.000000\n",
       "mean   1.409628e+05     128.98823   15828.081767\n",
       "std    6.019674e+04      38.99336    9220.285684\n",
       "min   -6.400000e+01       0.00000     100.000000\n",
       "25%    1.029135e+05     100.00000   10800.000000\n",
       "50%    1.410800e+05     120.00000   14200.000000\n",
       "75%    1.751955e+05     135.00000   18600.000000\n",
       "max    1.000376e+06     423.00000  178500.000000"
      ]
     },
     "execution_count": 3,
     "metadata": {},
     "output_type": "execute_result"
    }
   ],
   "source": [
    "df.describe()"
   ]
  },
  {
   "cell_type": "code",
   "execution_count": 4,
   "metadata": {},
   "outputs": [
    {
     "data": {
      "text/html": [
       "<div>\n",
       "<style scoped>\n",
       "    .dataframe tbody tr th:only-of-type {\n",
       "        vertical-align: middle;\n",
       "    }\n",
       "\n",
       "    .dataframe tbody tr th {\n",
       "        vertical-align: top;\n",
       "    }\n",
       "\n",
       "    .dataframe thead th {\n",
       "        text-align: right;\n",
       "    }\n",
       "</style>\n",
       "<table border=\"1\" class=\"dataframe\">\n",
       "  <thead>\n",
       "    <tr style=\"text-align: right;\">\n",
       "      <th></th>\n",
       "      <th>maker_key</th>\n",
       "      <th>model_key</th>\n",
       "      <th>mileage</th>\n",
       "      <th>engine_power</th>\n",
       "      <th>registration_date</th>\n",
       "      <th>fuel</th>\n",
       "      <th>paint_color</th>\n",
       "      <th>car_type</th>\n",
       "      <th>feature_1</th>\n",
       "      <th>feature_2</th>\n",
       "      <th>feature_3</th>\n",
       "      <th>feature_4</th>\n",
       "      <th>feature_5</th>\n",
       "      <th>feature_6</th>\n",
       "      <th>feature_7</th>\n",
       "      <th>feature_8</th>\n",
       "      <th>price</th>\n",
       "      <th>sold_at</th>\n",
       "    </tr>\n",
       "  </thead>\n",
       "  <tbody>\n",
       "    <tr>\n",
       "      <th>0</th>\n",
       "      <td>BMW</td>\n",
       "      <td>118</td>\n",
       "      <td>140411</td>\n",
       "      <td>100</td>\n",
       "      <td>01-02-2012</td>\n",
       "      <td>diesel</td>\n",
       "      <td>black</td>\n",
       "      <td>convertible</td>\n",
       "      <td>True</td>\n",
       "      <td>True</td>\n",
       "      <td>False</td>\n",
       "      <td>False</td>\n",
       "      <td>True</td>\n",
       "      <td>True</td>\n",
       "      <td>True</td>\n",
       "      <td>False</td>\n",
       "      <td>11300</td>\n",
       "      <td>01-01-2018</td>\n",
       "    </tr>\n",
       "    <tr>\n",
       "      <th>1</th>\n",
       "      <td>BMW</td>\n",
       "      <td>M4</td>\n",
       "      <td>13929</td>\n",
       "      <td>317</td>\n",
       "      <td>01-04-2016</td>\n",
       "      <td>petrol</td>\n",
       "      <td>grey</td>\n",
       "      <td>convertible</td>\n",
       "      <td>True</td>\n",
       "      <td>True</td>\n",
       "      <td>False</td>\n",
       "      <td>False</td>\n",
       "      <td>False</td>\n",
       "      <td>True</td>\n",
       "      <td>True</td>\n",
       "      <td>True</td>\n",
       "      <td>69700</td>\n",
       "      <td>01-02-2018</td>\n",
       "    </tr>\n",
       "    <tr>\n",
       "      <th>2</th>\n",
       "      <td>BMW</td>\n",
       "      <td>320</td>\n",
       "      <td>183297</td>\n",
       "      <td>120</td>\n",
       "      <td>01-04-2012</td>\n",
       "      <td>diesel</td>\n",
       "      <td>white</td>\n",
       "      <td>convertible</td>\n",
       "      <td>False</td>\n",
       "      <td>False</td>\n",
       "      <td>False</td>\n",
       "      <td>False</td>\n",
       "      <td>True</td>\n",
       "      <td>False</td>\n",
       "      <td>True</td>\n",
       "      <td>False</td>\n",
       "      <td>10200</td>\n",
       "      <td>01-02-2018</td>\n",
       "    </tr>\n",
       "    <tr>\n",
       "      <th>3</th>\n",
       "      <td>BMW</td>\n",
       "      <td>420</td>\n",
       "      <td>128035</td>\n",
       "      <td>135</td>\n",
       "      <td>01-07-2014</td>\n",
       "      <td>diesel</td>\n",
       "      <td>red</td>\n",
       "      <td>convertible</td>\n",
       "      <td>True</td>\n",
       "      <td>True</td>\n",
       "      <td>False</td>\n",
       "      <td>False</td>\n",
       "      <td>True</td>\n",
       "      <td>True</td>\n",
       "      <td>True</td>\n",
       "      <td>True</td>\n",
       "      <td>25100</td>\n",
       "      <td>01-02-2018</td>\n",
       "    </tr>\n",
       "    <tr>\n",
       "      <th>4</th>\n",
       "      <td>BMW</td>\n",
       "      <td>425</td>\n",
       "      <td>97097</td>\n",
       "      <td>160</td>\n",
       "      <td>01-12-2014</td>\n",
       "      <td>diesel</td>\n",
       "      <td>silver</td>\n",
       "      <td>convertible</td>\n",
       "      <td>True</td>\n",
       "      <td>True</td>\n",
       "      <td>False</td>\n",
       "      <td>False</td>\n",
       "      <td>False</td>\n",
       "      <td>True</td>\n",
       "      <td>True</td>\n",
       "      <td>True</td>\n",
       "      <td>33400</td>\n",
       "      <td>01-04-2018</td>\n",
       "    </tr>\n",
       "  </tbody>\n",
       "</table>\n",
       "</div>"
      ],
      "text/plain": [
       "  maker_key model_key  mileage  engine_power registration_date    fuel  \\\n",
       "0       BMW       118   140411           100        01-02-2012  diesel   \n",
       "1       BMW        M4    13929           317        01-04-2016  petrol   \n",
       "2       BMW       320   183297           120        01-04-2012  diesel   \n",
       "3       BMW       420   128035           135        01-07-2014  diesel   \n",
       "4       BMW       425    97097           160        01-12-2014  diesel   \n",
       "\n",
       "  paint_color     car_type  feature_1  feature_2  feature_3  feature_4  \\\n",
       "0       black  convertible       True       True      False      False   \n",
       "1        grey  convertible       True       True      False      False   \n",
       "2       white  convertible      False      False      False      False   \n",
       "3         red  convertible       True       True      False      False   \n",
       "4      silver  convertible       True       True      False      False   \n",
       "\n",
       "   feature_5  feature_6  feature_7  feature_8  price     sold_at  \n",
       "0       True       True       True      False  11300  01-01-2018  \n",
       "1      False       True       True       True  69700  01-02-2018  \n",
       "2       True      False       True      False  10200  01-02-2018  \n",
       "3       True       True       True       True  25100  01-02-2018  \n",
       "4      False       True       True       True  33400  01-04-2018  "
      ]
     },
     "execution_count": 4,
     "metadata": {},
     "output_type": "execute_result"
    }
   ],
   "source": [
    "df.head()"
   ]
  },
  {
   "cell_type": "markdown",
   "metadata": {},
   "source": [
    "### EDA"
   ]
  },
  {
   "cell_type": "code",
   "execution_count": 5,
   "metadata": {},
   "outputs": [
    {
     "data": {
      "text/plain": [
       "0"
      ]
     },
     "execution_count": 5,
     "metadata": {},
     "output_type": "execute_result"
    }
   ],
   "source": [
    "## duplicate check\n",
    "df.duplicated().sum()"
   ]
  },
  {
   "cell_type": "code",
   "execution_count": 6,
   "metadata": {},
   "outputs": [
    {
     "data": {
      "text/plain": [
       "0"
      ]
     },
     "execution_count": 6,
     "metadata": {},
     "output_type": "execute_result"
    }
   ],
   "source": [
    "df.duplicated(['model_key', 'mileage', 'engine_power',\n",
    "       'registration_date', 'fuel', 'paint_color', 'car_type', 'feature_1',\n",
    "       'feature_2', 'feature_3', 'feature_4', 'feature_5', 'feature_6',\n",
    "       'feature_7', 'feature_8', 'price', 'sold_at']).sum()"
   ]
  },
  {
   "cell_type": "code",
   "execution_count": 7,
   "metadata": {},
   "outputs": [],
   "source": [
    "### missing values handling\n",
    "# df.isnull().sum()"
   ]
  },
  {
   "cell_type": "markdown",
   "metadata": {},
   "source": [
    "    - if missing values, should we drop them or handle them?\n",
    "    - column wise\n",
    "        - if drop? if a column has >= 70% of the values missing - drop the column\n",
    "        - if a column has missing values < 70 % \n",
    "            - missing ~ (5-10%) \n",
    "            - missing ~ (40 - 50%)\n",
    "            - missing ~ (60 - 70%) \n",
    "             - filling with central tendancy metrics(mean/median/mode), predicitve imputation, correlation imputation, fill with random values between +- 2 standard deviations from mean/median\n",
    "\n",
    "    - row wise\n",
    "        - if a column has 5% missing values, don't drop column but drop all those rows\n",
    "        - 100 rows (classes 0/1 where (0) 95 rows, (1) 5 rows) (Imbalanced dataset -> minority class and majority class)\n",
    "            index  col    target\n",
    "            0       NA     1\n",
    "            1       50     0\n",
    "            2       NA     0\n",
    "            3       NA     1\n",
    "            4       69     1\n",
    "            5       70     0"
   ]
  },
  {
   "cell_type": "code",
   "execution_count": 8,
   "metadata": {},
   "outputs": [],
   "source": [
    "# # predicitve imputation\n",
    "# 10 columns 100 rows\n",
    "# 9 columns + 10th column (missing values)\n",
    "# out of 100 rows (75 rows have certain values and 25 rows have missing values)\n",
    "# build a model on (75 rows+9 columns, target-> 10th columns  )"
   ]
  },
  {
   "cell_type": "markdown",
   "metadata": {},
   "source": [
    "## Encoding \n",
    " - OHE (usage: nominal)\n",
    " - Label Encoding (usage: ordinal, range, intervals )   "
   ]
  },
  {
   "cell_type": "code",
   "execution_count": 9,
   "metadata": {},
   "outputs": [],
   "source": [
    "bool_f = df.select_dtypes('boolean').columns\n",
    "\n",
    "# for col in bool_f:\n",
    "#     print(col, df[col].unique())"
   ]
  },
  {
   "cell_type": "code",
   "execution_count": 10,
   "metadata": {},
   "outputs": [],
   "source": [
    "for col in bool_f:\n",
    "    df[col] = df[col].apply(lambda x: 1 if x==True else 0)"
   ]
  },
  {
   "cell_type": "code",
   "execution_count": 11,
   "metadata": {},
   "outputs": [],
   "source": [
    "# df[bool_f]"
   ]
  },
  {
   "cell_type": "code",
   "execution_count": 12,
   "metadata": {},
   "outputs": [],
   "source": [
    "# categorical_f = df.select_dtypes('object').columns"
   ]
  },
  {
   "cell_type": "code",
   "execution_count": 13,
   "metadata": {},
   "outputs": [],
   "source": [
    "# categorical_f = [ 'model_key', 'fuel', 'paint_color','car_type']"
   ]
  },
  {
   "cell_type": "code",
   "execution_count": 14,
   "metadata": {},
   "outputs": [],
   "source": [
    "# df[categorical_f]"
   ]
  },
  {
   "cell_type": "code",
   "execution_count": 15,
   "metadata": {},
   "outputs": [],
   "source": [
    "# distinct values for each categorical features\n",
    "# for col in categorical_f:\n",
    "#     print(col, df[col].unique(), '=>', df[col].nunique())"
   ]
  },
  {
   "cell_type": "code",
   "execution_count": 16,
   "metadata": {},
   "outputs": [],
   "source": [
    "## if assigns (1,2,3,4) for encoding fuel ; which level should be assigned with what value?\n",
    "# fuel ['diesel' 'petrol' 'hybrid_petrol' 'electro'] [3,2,4,1]"
   ]
  },
  {
   "cell_type": "markdown",
   "metadata": {},
   "source": [
    "#### Encoding 'fuel' types"
   ]
  },
  {
   "cell_type": "code",
   "execution_count": 17,
   "metadata": {},
   "outputs": [],
   "source": [
    "# ### plot frequency of each of the fuel types and five point summary on price for each fuel type\n",
    "# fig, ax = plt.subplots(1,2,figsize = (15,4))\n",
    "# sns.countplot(df.fuel, ax = ax[0])\n",
    "# sns.boxplot(x ='price',y = 'fuel', data = df, ax = ax[1])\n",
    "# plt.show()\n",
    "\n",
    "\n",
    "# ### get plot normalised metrices on price for each fuel type\n",
    "# fuel_PU = []\n",
    "# for each in df.fuel.unique():\n",
    "#     x = df[df.fuel==each]\n",
    "#     fuel_PU.append(median(x['price'])) # getting median\n",
    "\n",
    "# fig, ax = plt.subplots(1,2,figsize = (15,4))\n",
    "# sns.barplot(fuel_PU, df.fuel.unique(), ax = ax[0])\n",
    "# ax[0].set_xlabel('Median Price')\n",
    "# # ax[1].set_ylabel('Fuel Type')\n",
    "\n",
    "# fuel_PU = []\n",
    "# for each in df.fuel.unique():\n",
    "#     x = df[df.fuel==each]\n",
    "#     fuel_PU.append(np.mean(x['price']))\n",
    "\n",
    "# sns.barplot(fuel_PU, df.fuel.unique(), ax = ax[1])\n",
    "# ax[1].set_xlabel('Avg. Price')\n",
    "# # ax[2].set_ylabel('Fuel Type')\n",
    "\n",
    "# plt.show()"
   ]
  },
  {
   "cell_type": "markdown",
   "metadata": {},
   "source": [
    "- Quick observations:\n",
    "    - Median price of hybrid-petrol cars are highest amongst all types, while petrol cars have lowest median price. If median is to be considered as deciding metric then, order of weightage for each fuel types follows:\n",
    "        - {'diesel':2,'petrol':1,'hybrid_petrol':4, 'electro':3}\n",
    "    - Average price for each fuel type suggest weightage as: \n",
    "        - {'diesel':2,'petrol':1,'hybrid_petrol':4, 'electro':3}\n",
    "    - Negligible outliers impact on price by fuel type\n",
    "    - Hence, fuel can be lacoded with the weightage assignment as follows:\n",
    "     - {'diesel':2,'petrol':1,'hybrid_petrol':4, 'electro':3}"
   ]
  },
  {
   "cell_type": "code",
   "execution_count": 18,
   "metadata": {},
   "outputs": [],
   "source": [
    "df['fuel_E'] = df.fuel.map({'diesel':2,'petrol':1,'hybrid_petrol':4, 'electro':3})"
   ]
  },
  {
   "cell_type": "code",
   "execution_count": 19,
   "metadata": {},
   "outputs": [],
   "source": [
    "# ### plot frequency of each of the paint_color and five point summary on price for each paint_color  type\n",
    "# fig, ax = plt.subplots(1,2,figsize = (15,4))\n",
    "# sns.countplot(df.paint_color , ax = ax[0]).set_title('Frequency of car paint color')\n",
    "# sns.boxplot(x ='price',y = 'paint_color', data = df, ax = ax[1])\n",
    "# plt.show()\n",
    "\n",
    "\n",
    "# ### get plot normalised metrices on price for each paint_color  type\n",
    "# paint_color_PU = []\n",
    "# for each in df.paint_color .unique():\n",
    "#     x = df[df.paint_color ==each]\n",
    "#     paint_color_PU.append(median(x['price'])) # getting median\n",
    "\n",
    "# fig, ax = plt.subplots(1,2,figsize = (15,4)) \n",
    "# sns.barplot(sorted(paint_color_PU), df.paint_color.unique()[np.argsort(paint_color_PU)], ax = ax[0])\n",
    "# ax[0].set_xlabel('Median Price')\n",
    "# # ax[1].set_ylabel('paint_color  Type')\n",
    "\n",
    "# paint_color_PU = []\n",
    "# for each in df.paint_color .unique():\n",
    "#     x = df[df.paint_color ==each]\n",
    "#     paint_color_PU.append(np.mean(x['price']))\n",
    "\n",
    "# sns.barplot(sorted(paint_color_PU), df.paint_color.unique()[np.argsort(paint_color_PU)], ax = ax[1])\n",
    "# ax[1].set_xlabel('Avg. Price')\n",
    "# # ax[2].set_ylabel('paint_color  Type')\n",
    "\n",
    "# plt.show()"
   ]
  },
  {
   "cell_type": "code",
   "execution_count": 20,
   "metadata": {},
   "outputs": [],
   "source": [
    "# paint_col_each= [np.mean(df[df.paint_color==each]['price']) for each in df.paint_color.unique()]\n",
    "# # dummy dataframe\n",
    "# x = pd.DataFrame(df.paint_color.unique(), columns=['paint_color'])\n",
    "# x['total_avgPrice']  = df['price'].mean()\n",
    "# x['avgPrice_by_color'] = paint_col_each\n",
    "# x['diff_avgPrice'] = (x.total_avgPrice - x.avgPrice_by_color)/x.total_avgPrice*100\n",
    "# x.sort_values('diff_avgPrice')"
   ]
  },
  {
   "cell_type": "markdown",
   "metadata": {},
   "source": [
    "- Quick observations:\n",
    "    - Orange cars have almost same median and average price and highest amost all.\n",
    "    - Green cars have least median and average price.\n",
    "    - Other colors of the cars median and average prices are changing in order.\n",
    "    - All the cars paint colors except orange, white, silver and green, average price is within 5% of the total price.\n",
    " - following the observations below weightage can be used for label encoding\n",
    "        - orange -> 5\n",
    "        - white -> 4\n",
    "        - remaing -> 3\n",
    "        - silver -> 2\n",
    "        - green -> 1\n"
   ]
  },
  {
   "cell_type": "code",
   "execution_count": 21,
   "metadata": {},
   "outputs": [],
   "source": [
    "df['paint_color_E'] = df.paint_color.apply(lambda x : 5 if x == 'orange' else (\n",
    "4 if x == 'white' else (\n",
    "2 if x == 'silver' else (\n",
    "1 if x == 'green' else 3))))"
   ]
  },
  {
   "cell_type": "code",
   "execution_count": 22,
   "metadata": {},
   "outputs": [],
   "source": [
    "# model_key_PU = []\n",
    "# for each in df.model_key.unique():\n",
    "#     x = df[df.model_key==each]\n",
    "#     model_key_PU.append(np.mean(x['price']))\n",
    "    \n",
    "# len(model_key_PU)    \n",
    "# plt.figure(figsize = (15,20))\n",
    "# x = pd.concat([pd.DataFrame(df.model_key.unique(), columns=['Key']), pd.DataFrame(model_key_PU,columns=['value'])], axis = 1).sort_values('value')\n",
    "# sns.barplot(x='value',y='Key' ,data = x)\n",
    "# plt.xlabel('Avg. Price')\n",
    "# plt.ylabel('Model Keys')\n",
    "# plt.show()"
   ]
  },
  {
   "cell_type": "code",
   "execution_count": 23,
   "metadata": {},
   "outputs": [],
   "source": [
    "df['model_key_E'] = df.model_key.apply(lambda x : 5 if x == 'i8' else (\n",
    "5 if x == 'M4' else (\n",
    "4 if x == 'X6 M' else (\n",
    "1 if x == 'X5 M50' else (\n",
    "1 if x in ('735', '216', '523', '650', '123', 'Z4', '118', '116', '316',\n",
    "       '630', '318', '114', '220 Active Tourer', '320', '120', '125',\n",
    "       '216 Active Tourer', 'X1') else (\n",
    "2 if x in ( '325', '318 Gran Turismo', '525',\n",
    "       '218 Active Tourer', '520', '218 Gran Tourer', '518', '328', '330',\n",
    "       '216 Gran Tourer', '218', '320 Gran Turismo', '214 Gran Tourer',\n",
    "       'X3', '225', '225 Active Tourer', '635', '530', '520 Gran Turismo',\n",
    "       '528', '325 Gran Turismo', '418 Gran Coupé', '530 Gran Turismo',\n",
    "       'ActiveHybrid 5', 'i3', '335', '135') else (\n",
    "3)))))))"
   ]
  },
  {
   "cell_type": "code",
   "execution_count": 24,
   "metadata": {},
   "outputs": [],
   "source": [
    "# car_type = []\n",
    "# for each in df.car_type.unique():\n",
    "#     x = df[df.car_type==each]\n",
    "#     car_type.append(np.mean(x['price']))\n",
    "    \n",
    "# x = pd.concat([pd.DataFrame(df.car_type.unique(), columns=['Key']), pd.DataFrame(car_type,columns=['value'])], axis = 1).sort_values('value', ascending= False)\n",
    "# plt.figure(figsize = (10,4))\n",
    "# sns.barplot(x='value',y='Key' ,data = x)\n",
    "# plt.xlabel('Price')\n",
    "# plt.ylabel('Car Types')\n",
    "# plt.show()"
   ]
  },
  {
   "cell_type": "code",
   "execution_count": 25,
   "metadata": {},
   "outputs": [],
   "source": [
    "df['car_type_E'] = df.car_type.apply(lambda x : 1 if x == 'subcompact' else (\n",
    "2 if x == 'estate' else (\n",
    "3 if x == 'hatchback' else (\n",
    "4 if x == 'van' else (\n",
    "5 if x == 'sedan' else (\n",
    "6 if x == 'convertible' else (\n",
    "7 if x == 'suv' else 8)))))))"
   ]
  },
  {
   "cell_type": "markdown",
   "metadata": {},
   "source": [
    "#### Capturing interraction effects between features"
   ]
  },
  {
   "cell_type": "code",
   "execution_count": 26,
   "metadata": {},
   "outputs": [],
   "source": [
    "# ### relation between model_key and mileage\n",
    "# mileage_N = []\n",
    "# for each in df.model_key.unique():\n",
    "#     x = df[df.model_key==each]\n",
    "#     mileage_N.append(sum(x['mileage'])/len(x))\n",
    "    \n",
    "# x = pd.concat([pd.DataFrame(df.model_key.unique(), columns=['Key']), pd.DataFrame(mileage_N,columns=['value'])], axis = 1).sort_values('value', ascending= False)\n",
    "# plt.figure(figsize = (10,15))\n",
    "# sns.barplot(x='value',y='Key' ,data = x)\n",
    "# plt.xlabel('Mileage')\n",
    "# plt.ylabel('Model Key')"
   ]
  },
  {
   "cell_type": "code",
   "execution_count": 27,
   "metadata": {},
   "outputs": [],
   "source": [
    "df['model_key_mileage_rel'] = df.model_key.apply(lambda x : 5 if x == '523' else (\n",
    "4 if x in ('530 Gran Turismo', '735', '635', '525', '335', '530') else (\n",
    "3 if x in ('535', '325 Gran Turismo', '518', '520', '320',\n",
    "       '220 Active Tourer', '730', '318', 'M5', '630', '318 Gran Turismo',\n",
    "       '316', 'M550', '520 Gran Turismo', '335 Gran Turismo', '118', 'X3',\n",
    "       '120', '330', '320 Gran Turismo', 'X5') else (\n",
    "2 if x in ('X1', '740', '325', '328',\n",
    "       'X6', '528', '640 Gran Coupé', '123', '116', '135', 'M3', 'X5 M',\n",
    "       '750', '640', '418 Gran Coupé', '216 Active Tourer',\n",
    "       '430 Gran Coupé', '125', 'Z4') else (\n",
    "1)))))"
   ]
  },
  {
   "cell_type": "code",
   "execution_count": 28,
   "metadata": {},
   "outputs": [],
   "source": [
    "# fig, ax = plt.subplots(2,2,figsize = (20,8))\n",
    "# sns.distplot(df.engine_power, ax = ax[0,0])\n",
    "# sns.distplot(df.mileage, ax = ax[0,1], color = 'green')\n",
    "# sns.scatterplot(df.mileage, df.price , ax = ax[1,1],color = 'green')\n",
    "# sns.scatterplot(df.engine_power, df.price , ax = ax[1,0])"
   ]
  },
  {
   "cell_type": "code",
   "execution_count": 29,
   "metadata": {},
   "outputs": [],
   "source": [
    "# M1 (April) - 80\n",
    "# M2 (April) - 77\n",
    "\n",
    "# M1 (May) - 79\n",
    "# M2 (May) - 79.1"
   ]
  },
  {
   "cell_type": "code",
   "execution_count": 30,
   "metadata": {},
   "outputs": [],
   "source": [
    "# ### bucketing price in range of 100\n",
    "# df['EP_bucket'] = df.engine_power.apply(lambda x: '[100)' if x < 100 else ('[100-200)'  if x < 200 else ('[200-300)' if x < 300 else ('[300-400)]' if x < 400 else '[400)') )))\n",
    "# x = df.groupby('EP_bucket')['price'].mean().reset_index()\n",
    "# sns.barplot(x = x.EP_bucket, y = x.price).set_ylabel('Avg. price')\n",
    "# plt.show()\n",
    "# x = df.groupby('EP_bucket')['price'].count().reset_index()\n",
    "# sns.barplot(x = x.EP_bucket, y = x.price).set_ylabel('Avg. price')\n",
    "# plt.show()\n",
    "# df.groupby('EP_bucket')['price'].describe()"
   ]
  },
  {
   "cell_type": "markdown",
   "metadata": {},
   "source": [
    "- Note: engine_power is already numerical form and can be feed as a feature in raw form. \n",
    "    - more analysis can be done to find any peculiar point from the data "
   ]
  },
  {
   "cell_type": "markdown",
   "metadata": {},
   "source": [
    "### target analysis"
   ]
  },
  {
   "cell_type": "code",
   "execution_count": 31,
   "metadata": {},
   "outputs": [],
   "source": [
    "# fig, ax = plt.subplots(1,3,figsize = (15,4))\n",
    "# sns.distplot(df.price, color = 'green', ax = ax[0])\n",
    "# sns.distplot(np.log(df.price), color = 'blue', ax = ax[1])\n",
    "# sns.distplot(np.sqrt(df.price), color = 'c', ax = ax[2])\n",
    "# plt.show()"
   ]
  },
  {
   "cell_type": "code",
   "execution_count": 32,
   "metadata": {},
   "outputs": [
    {
     "data": {
      "text/html": [
       "<div>\n",
       "<style scoped>\n",
       "    .dataframe tbody tr th:only-of-type {\n",
       "        vertical-align: middle;\n",
       "    }\n",
       "\n",
       "    .dataframe tbody tr th {\n",
       "        vertical-align: top;\n",
       "    }\n",
       "\n",
       "    .dataframe thead th {\n",
       "        text-align: right;\n",
       "    }\n",
       "</style>\n",
       "<table border=\"1\" class=\"dataframe\">\n",
       "  <thead>\n",
       "    <tr style=\"text-align: right;\">\n",
       "      <th></th>\n",
       "      <th>mileage</th>\n",
       "      <th>engine_power</th>\n",
       "      <th>price</th>\n",
       "    </tr>\n",
       "  </thead>\n",
       "  <tbody>\n",
       "    <tr>\n",
       "      <th>mileage</th>\n",
       "      <td>1.000000</td>\n",
       "      <td>-0.050116</td>\n",
       "      <td>-0.409564</td>\n",
       "    </tr>\n",
       "    <tr>\n",
       "      <th>engine_power</th>\n",
       "      <td>-0.050116</td>\n",
       "      <td>1.000000</td>\n",
       "      <td>0.638989</td>\n",
       "    </tr>\n",
       "    <tr>\n",
       "      <th>price</th>\n",
       "      <td>-0.409564</td>\n",
       "      <td>0.638989</td>\n",
       "      <td>1.000000</td>\n",
       "    </tr>\n",
       "  </tbody>\n",
       "</table>\n",
       "</div>"
      ],
      "text/plain": [
       "               mileage  engine_power     price\n",
       "mileage       1.000000     -0.050116 -0.409564\n",
       "engine_power -0.050116      1.000000  0.638989\n",
       "price        -0.409564      0.638989  1.000000"
      ]
     },
     "execution_count": 32,
     "metadata": {},
     "output_type": "execute_result"
    }
   ],
   "source": [
    "## correlaation \n",
    "df[['mileage', 'engine_power','price']].corr()"
   ]
  },
  {
   "cell_type": "markdown",
   "metadata": {},
   "source": [
    "### date related features analysis"
   ]
  },
  {
   "cell_type": "code",
   "execution_count": 33,
   "metadata": {},
   "outputs": [],
   "source": [
    "df.registration_date = pd.to_datetime(df.registration_date)\n",
    "df.sold_at = pd.to_datetime(df.sold_at)\n",
    "df['gap_reg_sold_year'] =  df.sold_at.dt.year - df.registration_date.dt.year \n",
    "df['reg_month'] = df.registration_date.dt.month\n",
    "df['gap_reg_sold_days'] =  df.sold_at - df.registration_date \n",
    "df['gap_reg_sold_days'] = df.gap_reg_sold_days.apply(lambda x: int(str(x).split()[0]))"
   ]
  },
  {
   "cell_type": "code",
   "execution_count": 34,
   "metadata": {},
   "outputs": [
    {
     "data": {
      "text/html": [
       "<div>\n",
       "<style scoped>\n",
       "    .dataframe tbody tr th:only-of-type {\n",
       "        vertical-align: middle;\n",
       "    }\n",
       "\n",
       "    .dataframe tbody tr th {\n",
       "        vertical-align: top;\n",
       "    }\n",
       "\n",
       "    .dataframe thead th {\n",
       "        text-align: right;\n",
       "    }\n",
       "</style>\n",
       "<table border=\"1\" class=\"dataframe\">\n",
       "  <thead>\n",
       "    <tr style=\"text-align: right;\">\n",
       "      <th></th>\n",
       "      <th>maker_key</th>\n",
       "      <th>model_key</th>\n",
       "      <th>mileage</th>\n",
       "      <th>engine_power</th>\n",
       "      <th>registration_date</th>\n",
       "      <th>fuel</th>\n",
       "      <th>paint_color</th>\n",
       "      <th>car_type</th>\n",
       "      <th>feature_1</th>\n",
       "      <th>feature_2</th>\n",
       "      <th>feature_3</th>\n",
       "      <th>feature_4</th>\n",
       "      <th>feature_5</th>\n",
       "      <th>feature_6</th>\n",
       "      <th>feature_7</th>\n",
       "      <th>feature_8</th>\n",
       "      <th>price</th>\n",
       "      <th>sold_at</th>\n",
       "      <th>fuel_E</th>\n",
       "      <th>paint_color_E</th>\n",
       "      <th>model_key_E</th>\n",
       "      <th>car_type_E</th>\n",
       "      <th>model_key_mileage_rel</th>\n",
       "      <th>gap_reg_sold_year</th>\n",
       "      <th>reg_month</th>\n",
       "      <th>gap_reg_sold_days</th>\n",
       "    </tr>\n",
       "  </thead>\n",
       "  <tbody>\n",
       "    <tr>\n",
       "      <th>0</th>\n",
       "      <td>BMW</td>\n",
       "      <td>118</td>\n",
       "      <td>140411</td>\n",
       "      <td>100</td>\n",
       "      <td>2012-01-02</td>\n",
       "      <td>diesel</td>\n",
       "      <td>black</td>\n",
       "      <td>convertible</td>\n",
       "      <td>1</td>\n",
       "      <td>1</td>\n",
       "      <td>0</td>\n",
       "      <td>0</td>\n",
       "      <td>1</td>\n",
       "      <td>1</td>\n",
       "      <td>1</td>\n",
       "      <td>0</td>\n",
       "      <td>11300</td>\n",
       "      <td>2018-01-01</td>\n",
       "      <td>2</td>\n",
       "      <td>3</td>\n",
       "      <td>1</td>\n",
       "      <td>6</td>\n",
       "      <td>3</td>\n",
       "      <td>6</td>\n",
       "      <td>1</td>\n",
       "      <td>2191</td>\n",
       "    </tr>\n",
       "    <tr>\n",
       "      <th>1</th>\n",
       "      <td>BMW</td>\n",
       "      <td>M4</td>\n",
       "      <td>13929</td>\n",
       "      <td>317</td>\n",
       "      <td>2016-01-04</td>\n",
       "      <td>petrol</td>\n",
       "      <td>grey</td>\n",
       "      <td>convertible</td>\n",
       "      <td>1</td>\n",
       "      <td>1</td>\n",
       "      <td>0</td>\n",
       "      <td>0</td>\n",
       "      <td>0</td>\n",
       "      <td>1</td>\n",
       "      <td>1</td>\n",
       "      <td>1</td>\n",
       "      <td>69700</td>\n",
       "      <td>2018-01-02</td>\n",
       "      <td>1</td>\n",
       "      <td>3</td>\n",
       "      <td>5</td>\n",
       "      <td>6</td>\n",
       "      <td>1</td>\n",
       "      <td>2</td>\n",
       "      <td>1</td>\n",
       "      <td>729</td>\n",
       "    </tr>\n",
       "    <tr>\n",
       "      <th>2</th>\n",
       "      <td>BMW</td>\n",
       "      <td>320</td>\n",
       "      <td>183297</td>\n",
       "      <td>120</td>\n",
       "      <td>2012-01-04</td>\n",
       "      <td>diesel</td>\n",
       "      <td>white</td>\n",
       "      <td>convertible</td>\n",
       "      <td>0</td>\n",
       "      <td>0</td>\n",
       "      <td>0</td>\n",
       "      <td>0</td>\n",
       "      <td>1</td>\n",
       "      <td>0</td>\n",
       "      <td>1</td>\n",
       "      <td>0</td>\n",
       "      <td>10200</td>\n",
       "      <td>2018-01-02</td>\n",
       "      <td>2</td>\n",
       "      <td>4</td>\n",
       "      <td>1</td>\n",
       "      <td>6</td>\n",
       "      <td>3</td>\n",
       "      <td>6</td>\n",
       "      <td>1</td>\n",
       "      <td>2190</td>\n",
       "    </tr>\n",
       "    <tr>\n",
       "      <th>3</th>\n",
       "      <td>BMW</td>\n",
       "      <td>420</td>\n",
       "      <td>128035</td>\n",
       "      <td>135</td>\n",
       "      <td>2014-01-07</td>\n",
       "      <td>diesel</td>\n",
       "      <td>red</td>\n",
       "      <td>convertible</td>\n",
       "      <td>1</td>\n",
       "      <td>1</td>\n",
       "      <td>0</td>\n",
       "      <td>0</td>\n",
       "      <td>1</td>\n",
       "      <td>1</td>\n",
       "      <td>1</td>\n",
       "      <td>1</td>\n",
       "      <td>25100</td>\n",
       "      <td>2018-01-02</td>\n",
       "      <td>2</td>\n",
       "      <td>3</td>\n",
       "      <td>3</td>\n",
       "      <td>6</td>\n",
       "      <td>1</td>\n",
       "      <td>4</td>\n",
       "      <td>1</td>\n",
       "      <td>1456</td>\n",
       "    </tr>\n",
       "    <tr>\n",
       "      <th>4</th>\n",
       "      <td>BMW</td>\n",
       "      <td>425</td>\n",
       "      <td>97097</td>\n",
       "      <td>160</td>\n",
       "      <td>2014-01-12</td>\n",
       "      <td>diesel</td>\n",
       "      <td>silver</td>\n",
       "      <td>convertible</td>\n",
       "      <td>1</td>\n",
       "      <td>1</td>\n",
       "      <td>0</td>\n",
       "      <td>0</td>\n",
       "      <td>0</td>\n",
       "      <td>1</td>\n",
       "      <td>1</td>\n",
       "      <td>1</td>\n",
       "      <td>33400</td>\n",
       "      <td>2018-01-04</td>\n",
       "      <td>2</td>\n",
       "      <td>2</td>\n",
       "      <td>3</td>\n",
       "      <td>6</td>\n",
       "      <td>1</td>\n",
       "      <td>4</td>\n",
       "      <td>1</td>\n",
       "      <td>1453</td>\n",
       "    </tr>\n",
       "  </tbody>\n",
       "</table>\n",
       "</div>"
      ],
      "text/plain": [
       "  maker_key model_key  mileage  engine_power registration_date    fuel  \\\n",
       "0       BMW       118   140411           100        2012-01-02  diesel   \n",
       "1       BMW        M4    13929           317        2016-01-04  petrol   \n",
       "2       BMW       320   183297           120        2012-01-04  diesel   \n",
       "3       BMW       420   128035           135        2014-01-07  diesel   \n",
       "4       BMW       425    97097           160        2014-01-12  diesel   \n",
       "\n",
       "  paint_color     car_type  feature_1  feature_2  feature_3  feature_4  \\\n",
       "0       black  convertible          1          1          0          0   \n",
       "1        grey  convertible          1          1          0          0   \n",
       "2       white  convertible          0          0          0          0   \n",
       "3         red  convertible          1          1          0          0   \n",
       "4      silver  convertible          1          1          0          0   \n",
       "\n",
       "   feature_5  feature_6  feature_7  feature_8  price    sold_at  fuel_E  \\\n",
       "0          1          1          1          0  11300 2018-01-01       2   \n",
       "1          0          1          1          1  69700 2018-01-02       1   \n",
       "2          1          0          1          0  10200 2018-01-02       2   \n",
       "3          1          1          1          1  25100 2018-01-02       2   \n",
       "4          0          1          1          1  33400 2018-01-04       2   \n",
       "\n",
       "   paint_color_E  model_key_E  car_type_E  model_key_mileage_rel  \\\n",
       "0              3            1           6                      3   \n",
       "1              3            5           6                      1   \n",
       "2              4            1           6                      3   \n",
       "3              3            3           6                      1   \n",
       "4              2            3           6                      1   \n",
       "\n",
       "   gap_reg_sold_year  reg_month  gap_reg_sold_days  \n",
       "0                  6          1               2191  \n",
       "1                  2          1                729  \n",
       "2                  6          1               2190  \n",
       "3                  4          1               1456  \n",
       "4                  4          1               1453  "
      ]
     },
     "execution_count": 34,
     "metadata": {},
     "output_type": "execute_result"
    }
   ],
   "source": [
    "df.head()"
   ]
  },
  {
   "cell_type": "code",
   "execution_count": 35,
   "metadata": {},
   "outputs": [],
   "source": [
    "# ### hypothesis: How does the estimated value of a car change over time?\n",
    "# x = df.groupby('gap_reg_sold_year')['price'].mean().reset_index()\n",
    "# sns.lineplot(x.gap_reg_sold_year, x.price ,color = 'green').set_xlabel('year diff bet/ registration and sold date')\n",
    "# plt.show()"
   ]
  },
  {
   "cell_type": "markdown",
   "metadata": {},
   "source": [
    "--- Practice analysis (perform analysis to answer following questions)\n",
    "\n",
    "Additional time analysis of price\n",
    "- price pattern wrt. month\n",
    "- price pattern weekdays\n",
    "- price pattern by gap_reg_sold_days"
   ]
  },
  {
   "cell_type": "markdown",
   "metadata": {},
   "source": [
    "- correlation check \n",
    "        - pearson correlation coefficient (degree linear relationship between two continuous variables)\n",
    "                - V1 V2   Type of correlation\n",
    "                - C C    -> pearson correlation coefficient\n",
    "                - C D    -> ANOVA test / spermans correlation coefficient\n",
    "                - D C    -> ANOVA test\n",
    "                - D D    -> chi-square test"
   ]
  },
  {
   "cell_type": "code",
   "execution_count": 36,
   "metadata": {},
   "outputs": [
    {
     "data": {
      "text/html": [
       "<div>\n",
       "<style scoped>\n",
       "    .dataframe tbody tr th:only-of-type {\n",
       "        vertical-align: middle;\n",
       "    }\n",
       "\n",
       "    .dataframe tbody tr th {\n",
       "        vertical-align: top;\n",
       "    }\n",
       "\n",
       "    .dataframe thead th {\n",
       "        text-align: right;\n",
       "    }\n",
       "</style>\n",
       "<table border=\"1\" class=\"dataframe\">\n",
       "  <thead>\n",
       "    <tr style=\"text-align: right;\">\n",
       "      <th></th>\n",
       "      <th>mileage</th>\n",
       "      <th>engine_power</th>\n",
       "      <th>price</th>\n",
       "      <th>gap_reg_sold_year</th>\n",
       "    </tr>\n",
       "  </thead>\n",
       "  <tbody>\n",
       "    <tr>\n",
       "      <th>mileage</th>\n",
       "      <td>1.000000</td>\n",
       "      <td>-0.050116</td>\n",
       "      <td>-0.409564</td>\n",
       "      <td>0.507261</td>\n",
       "    </tr>\n",
       "    <tr>\n",
       "      <th>engine_power</th>\n",
       "      <td>-0.050116</td>\n",
       "      <td>1.000000</td>\n",
       "      <td>0.638989</td>\n",
       "      <td>-0.082577</td>\n",
       "    </tr>\n",
       "    <tr>\n",
       "      <th>price</th>\n",
       "      <td>-0.409564</td>\n",
       "      <td>0.638989</td>\n",
       "      <td>1.000000</td>\n",
       "      <td>-0.449878</td>\n",
       "    </tr>\n",
       "    <tr>\n",
       "      <th>gap_reg_sold_year</th>\n",
       "      <td>0.507261</td>\n",
       "      <td>-0.082577</td>\n",
       "      <td>-0.449878</td>\n",
       "      <td>1.000000</td>\n",
       "    </tr>\n",
       "  </tbody>\n",
       "</table>\n",
       "</div>"
      ],
      "text/plain": [
       "                    mileage  engine_power     price  gap_reg_sold_year\n",
       "mileage            1.000000     -0.050116 -0.409564           0.507261\n",
       "engine_power      -0.050116      1.000000  0.638989          -0.082577\n",
       "price             -0.409564      0.638989  1.000000          -0.449878\n",
       "gap_reg_sold_year  0.507261     -0.082577 -0.449878           1.000000"
      ]
     },
     "execution_count": 36,
     "metadata": {},
     "output_type": "execute_result"
    }
   ],
   "source": [
    "## correlaation \n",
    "df[['mileage', 'engine_power','price','gap_reg_sold_year']].corr()"
   ]
  },
  {
   "cell_type": "code",
   "execution_count": 37,
   "metadata": {},
   "outputs": [],
   "source": [
    "### drop records where mileage is negative and engine_power is 0\n",
    "df.drop(df[df.mileage < 0].index, axis = 0, inplace = True)\n",
    "df.drop(df[df.engine_power == 0].index, axis = 0, inplace = True)"
   ]
  },
  {
   "cell_type": "code",
   "execution_count": 38,
   "metadata": {
    "scrolled": true
   },
   "outputs": [
    {
     "data": {
      "text/html": [
       "<div>\n",
       "<style scoped>\n",
       "    .dataframe tbody tr th:only-of-type {\n",
       "        vertical-align: middle;\n",
       "    }\n",
       "\n",
       "    .dataframe tbody tr th {\n",
       "        vertical-align: top;\n",
       "    }\n",
       "\n",
       "    .dataframe thead th {\n",
       "        text-align: right;\n",
       "    }\n",
       "</style>\n",
       "<table border=\"1\" class=\"dataframe\">\n",
       "  <thead>\n",
       "    <tr style=\"text-align: right;\">\n",
       "      <th></th>\n",
       "      <th>maker_key</th>\n",
       "      <th>model_key</th>\n",
       "      <th>mileage</th>\n",
       "      <th>engine_power</th>\n",
       "      <th>registration_date</th>\n",
       "      <th>fuel</th>\n",
       "      <th>paint_color</th>\n",
       "      <th>car_type</th>\n",
       "      <th>feature_1</th>\n",
       "      <th>feature_2</th>\n",
       "      <th>feature_3</th>\n",
       "      <th>feature_4</th>\n",
       "      <th>feature_5</th>\n",
       "      <th>feature_6</th>\n",
       "      <th>feature_7</th>\n",
       "      <th>feature_8</th>\n",
       "      <th>price</th>\n",
       "      <th>sold_at</th>\n",
       "      <th>fuel_E</th>\n",
       "      <th>paint_color_E</th>\n",
       "      <th>model_key_E</th>\n",
       "      <th>car_type_E</th>\n",
       "      <th>model_key_mileage_rel</th>\n",
       "      <th>gap_reg_sold_year</th>\n",
       "      <th>reg_month</th>\n",
       "      <th>gap_reg_sold_days</th>\n",
       "    </tr>\n",
       "  </thead>\n",
       "  <tbody>\n",
       "    <tr>\n",
       "      <th>0</th>\n",
       "      <td>BMW</td>\n",
       "      <td>118</td>\n",
       "      <td>140411</td>\n",
       "      <td>100</td>\n",
       "      <td>2012-01-02</td>\n",
       "      <td>diesel</td>\n",
       "      <td>black</td>\n",
       "      <td>convertible</td>\n",
       "      <td>1</td>\n",
       "      <td>1</td>\n",
       "      <td>0</td>\n",
       "      <td>0</td>\n",
       "      <td>1</td>\n",
       "      <td>1</td>\n",
       "      <td>1</td>\n",
       "      <td>0</td>\n",
       "      <td>11300</td>\n",
       "      <td>2018-01-01</td>\n",
       "      <td>2</td>\n",
       "      <td>3</td>\n",
       "      <td>1</td>\n",
       "      <td>6</td>\n",
       "      <td>3</td>\n",
       "      <td>6</td>\n",
       "      <td>1</td>\n",
       "      <td>2191</td>\n",
       "    </tr>\n",
       "    <tr>\n",
       "      <th>1</th>\n",
       "      <td>BMW</td>\n",
       "      <td>M4</td>\n",
       "      <td>13929</td>\n",
       "      <td>317</td>\n",
       "      <td>2016-01-04</td>\n",
       "      <td>petrol</td>\n",
       "      <td>grey</td>\n",
       "      <td>convertible</td>\n",
       "      <td>1</td>\n",
       "      <td>1</td>\n",
       "      <td>0</td>\n",
       "      <td>0</td>\n",
       "      <td>0</td>\n",
       "      <td>1</td>\n",
       "      <td>1</td>\n",
       "      <td>1</td>\n",
       "      <td>69700</td>\n",
       "      <td>2018-01-02</td>\n",
       "      <td>1</td>\n",
       "      <td>3</td>\n",
       "      <td>5</td>\n",
       "      <td>6</td>\n",
       "      <td>1</td>\n",
       "      <td>2</td>\n",
       "      <td>1</td>\n",
       "      <td>729</td>\n",
       "    </tr>\n",
       "    <tr>\n",
       "      <th>2</th>\n",
       "      <td>BMW</td>\n",
       "      <td>320</td>\n",
       "      <td>183297</td>\n",
       "      <td>120</td>\n",
       "      <td>2012-01-04</td>\n",
       "      <td>diesel</td>\n",
       "      <td>white</td>\n",
       "      <td>convertible</td>\n",
       "      <td>0</td>\n",
       "      <td>0</td>\n",
       "      <td>0</td>\n",
       "      <td>0</td>\n",
       "      <td>1</td>\n",
       "      <td>0</td>\n",
       "      <td>1</td>\n",
       "      <td>0</td>\n",
       "      <td>10200</td>\n",
       "      <td>2018-01-02</td>\n",
       "      <td>2</td>\n",
       "      <td>4</td>\n",
       "      <td>1</td>\n",
       "      <td>6</td>\n",
       "      <td>3</td>\n",
       "      <td>6</td>\n",
       "      <td>1</td>\n",
       "      <td>2190</td>\n",
       "    </tr>\n",
       "    <tr>\n",
       "      <th>3</th>\n",
       "      <td>BMW</td>\n",
       "      <td>420</td>\n",
       "      <td>128035</td>\n",
       "      <td>135</td>\n",
       "      <td>2014-01-07</td>\n",
       "      <td>diesel</td>\n",
       "      <td>red</td>\n",
       "      <td>convertible</td>\n",
       "      <td>1</td>\n",
       "      <td>1</td>\n",
       "      <td>0</td>\n",
       "      <td>0</td>\n",
       "      <td>1</td>\n",
       "      <td>1</td>\n",
       "      <td>1</td>\n",
       "      <td>1</td>\n",
       "      <td>25100</td>\n",
       "      <td>2018-01-02</td>\n",
       "      <td>2</td>\n",
       "      <td>3</td>\n",
       "      <td>3</td>\n",
       "      <td>6</td>\n",
       "      <td>1</td>\n",
       "      <td>4</td>\n",
       "      <td>1</td>\n",
       "      <td>1456</td>\n",
       "    </tr>\n",
       "    <tr>\n",
       "      <th>4</th>\n",
       "      <td>BMW</td>\n",
       "      <td>425</td>\n",
       "      <td>97097</td>\n",
       "      <td>160</td>\n",
       "      <td>2014-01-12</td>\n",
       "      <td>diesel</td>\n",
       "      <td>silver</td>\n",
       "      <td>convertible</td>\n",
       "      <td>1</td>\n",
       "      <td>1</td>\n",
       "      <td>0</td>\n",
       "      <td>0</td>\n",
       "      <td>0</td>\n",
       "      <td>1</td>\n",
       "      <td>1</td>\n",
       "      <td>1</td>\n",
       "      <td>33400</td>\n",
       "      <td>2018-01-04</td>\n",
       "      <td>2</td>\n",
       "      <td>2</td>\n",
       "      <td>3</td>\n",
       "      <td>6</td>\n",
       "      <td>1</td>\n",
       "      <td>4</td>\n",
       "      <td>1</td>\n",
       "      <td>1453</td>\n",
       "    </tr>\n",
       "  </tbody>\n",
       "</table>\n",
       "</div>"
      ],
      "text/plain": [
       "  maker_key model_key  mileage  engine_power registration_date    fuel  \\\n",
       "0       BMW       118   140411           100        2012-01-02  diesel   \n",
       "1       BMW        M4    13929           317        2016-01-04  petrol   \n",
       "2       BMW       320   183297           120        2012-01-04  diesel   \n",
       "3       BMW       420   128035           135        2014-01-07  diesel   \n",
       "4       BMW       425    97097           160        2014-01-12  diesel   \n",
       "\n",
       "  paint_color     car_type  feature_1  feature_2  feature_3  feature_4  \\\n",
       "0       black  convertible          1          1          0          0   \n",
       "1        grey  convertible          1          1          0          0   \n",
       "2       white  convertible          0          0          0          0   \n",
       "3         red  convertible          1          1          0          0   \n",
       "4      silver  convertible          1          1          0          0   \n",
       "\n",
       "   feature_5  feature_6  feature_7  feature_8  price    sold_at  fuel_E  \\\n",
       "0          1          1          1          0  11300 2018-01-01       2   \n",
       "1          0          1          1          1  69700 2018-01-02       1   \n",
       "2          1          0          1          0  10200 2018-01-02       2   \n",
       "3          1          1          1          1  25100 2018-01-02       2   \n",
       "4          0          1          1          1  33400 2018-01-04       2   \n",
       "\n",
       "   paint_color_E  model_key_E  car_type_E  model_key_mileage_rel  \\\n",
       "0              3            1           6                      3   \n",
       "1              3            5           6                      1   \n",
       "2              4            1           6                      3   \n",
       "3              3            3           6                      1   \n",
       "4              2            3           6                      1   \n",
       "\n",
       "   gap_reg_sold_year  reg_month  gap_reg_sold_days  \n",
       "0                  6          1               2191  \n",
       "1                  2          1                729  \n",
       "2                  6          1               2190  \n",
       "3                  4          1               1456  \n",
       "4                  4          1               1453  "
      ]
     },
     "execution_count": 38,
     "metadata": {},
     "output_type": "execute_result"
    }
   ],
   "source": [
    "df.head()"
   ]
  },
  {
   "cell_type": "markdown",
   "metadata": {},
   "source": [
    "## Modelling\n",
    "\n"
   ]
  },
  {
   "cell_type": "code",
   "execution_count": 39,
   "metadata": {},
   "outputs": [],
   "source": [
    "# import packages\n",
    "from sklearn.model_selection import train_test_split, GridSearchCV, cross_val_score, KFold\n",
    "from sklearn.preprocessing import StandardScaler, Normalizer\n",
    "from sklearn.ensemble import RandomForestRegressor\n",
    "from sklearn.svm import SVR\n",
    "from sklearn.linear_model import LinearRegression, Ridge\n",
    "from sklearn.metrics import r2_score, mean_squared_log_error"
   ]
  },
  {
   "cell_type": "code",
   "execution_count": 40,
   "metadata": {},
   "outputs": [],
   "source": [
    "features = ['mileage', 'engine_power', 'feature_1',\n",
    "       'feature_2', 'feature_3', 'feature_4', 'feature_5', 'feature_6',\n",
    "       'feature_7', 'feature_8', 'fuel_E', 'paint_color_E',\n",
    "       'model_key_E', 'car_type_E', 'model_key_mileage_rel','gap_reg_sold_year']\n",
    "\n",
    "target = 'price'"
   ]
  },
  {
   "cell_type": "code",
   "execution_count": 41,
   "metadata": {},
   "outputs": [],
   "source": [
    "## splitting data into training and validation sets\n",
    "X_train, X_test, y_train, y_test = train_test_split(df[features], df[target], test_size = 0.2, random_state = 42 )"
   ]
  },
  {
   "cell_type": "code",
   "execution_count": 42,
   "metadata": {},
   "outputs": [
    {
     "name": "stdout",
     "output_type": "stream",
     "text": [
      "Train R^2 score 0.9699792070413173\n",
      "Test R^2 score 0.8300708348034823\n",
      "Train mean_squared_log_error 0.037747102763997745\n",
      "Test mean_squared_log_error 0.15259793846632977\n"
     ]
    }
   ],
   "source": [
    "### Model with default parameters; features scaling has not happened\n",
    "RFModel = RandomForestRegressor().fit(X_train,y_train) # training\n",
    "## \n",
    "print('Train R^2 score {}'.format(r2_score(y_train, RFModel.predict(X_train))))\n",
    "print('Test R^2 score {}'.format(r2_score(y_test, RFModel.predict(X_test))))\n",
    "\n",
    "print('Train mean_squared_log_error {}'.format(mean_squared_log_error(y_train, RFModel.predict(X_train))))\n",
    "print('Test mean_squared_log_error {}'.format(mean_squared_log_error(y_test, RFModel.predict(X_test))))"
   ]
  },
  {
   "cell_type": "code",
   "execution_count": 43,
   "metadata": {},
   "outputs": [],
   "source": [
    "# - LinearRegression => assumptions (linear rel., dataset size should small, not too many categorical features, no multi-correlationary, normality, homoscedacity, etc)\n",
    "# - RandomForestRegressor => adv. (handles non-linearity, to big data, lot of categorical features) ; dis(prone to overfit, highly unstable)\n",
    "# - SVR => adv. (kernal); dis (computationally expensive)"
   ]
  },
  {
   "cell_type": "code",
   "execution_count": 44,
   "metadata": {},
   "outputs": [],
   "source": [
    "## scaling features\n",
    "scaler = StandardScaler().fit(X_train,y_train)\n",
    "X_train = scaler.transform(X_train)\n",
    "X_test = scaler.transform(X_test)"
   ]
  },
  {
   "cell_type": "code",
   "execution_count": 45,
   "metadata": {},
   "outputs": [],
   "source": [
    "# AIC, BIC"
   ]
  },
  {
   "cell_type": "code",
   "execution_count": 46,
   "metadata": {},
   "outputs": [
    {
     "name": "stdout",
     "output_type": "stream",
     "text": [
      "Model => LinearRegression()\n",
      "Avg. R^2_score: 0.7214168743899274, std:0.12561179225406155, scores:[0.77475499 0.47120839 0.77058777 0.80291597 0.78761725]\n",
      "Model => Ridge()\n",
      "Avg. R^2_score: 0.7214193140339191, std:0.12561003132796467, scores:[0.77476382 0.4712138  0.77058516 0.80290741 0.78762638]\n",
      "Model => RandomForestRegressor()\n",
      "Avg. R^2_score: 0.8097154363845716, std:0.12982224968807457, scores:[0.85497366 0.5514235  0.87046327 0.89635263 0.87536413]\n",
      "Model => SVR()\n",
      "Avg. R^2_score: -0.015708698951961475, std:0.010982894758966452, scores:[-0.0117084  -0.00742686 -0.01022372 -0.01173519 -0.03744933]\n"
     ]
    }
   ],
   "source": [
    "## Get r-suqare score with each models\n",
    "for model in [LinearRegression(), Ridge(), RandomForestRegressor(),SVR()]:\n",
    "    scores = cross_val_score(model, X_train, y_train, cv= 5, scoring='r2',n_jobs=-1)\n",
    "    print('Model =>',str(model))\n",
    "    print('Avg. R^2_score: {}, std:{}, scores:{}'.format(np.mean(scores),np.std(scores), scores))"
   ]
  },
  {
   "cell_type": "code",
   "execution_count": 47,
   "metadata": {},
   "outputs": [],
   "source": [
    "# ### Model with default parameters; features are scaled\n",
    "# RFModel = RandomForestRegressor().fit(X_train,y_train) # training\n",
    "# ## \n",
    "# print('Test R^2 score {}'.format(r2_score(y_test, RFModel.predict(X_test))))\n",
    "# print('Test mean_squared_log_error {}'.format(mean_squared_log_error(y_test, RFModel.predict(X_test))))"
   ]
  },
  {
   "cell_type": "code",
   "execution_count": 48,
   "metadata": {},
   "outputs": [
    {
     "name": "stdout",
     "output_type": "stream",
     "text": [
      "Test R^2 score 0.8047317402215458\n",
      "Test mean_squared_log_error 0.1516159195455402\n"
     ]
    }
   ],
   "source": [
    "### Model with default parameters; features are scaled\n",
    "RFModel = RandomForestRegressor(random_state=42).fit(X_train,y_train) # training\n",
    "## \n",
    "print('Test R^2 score {}'.format(r2_score(y_test, RFModel.predict(X_test))))\n",
    "print('Test mean_squared_log_error {}'.format(mean_squared_log_error(y_test, RFModel.predict(X_test))))"
   ]
  },
  {
   "cell_type": "code",
   "execution_count": 49,
   "metadata": {},
   "outputs": [
    {
     "name": "stdout",
     "output_type": "stream",
     "text": [
      "Test R^2 score 0.8047317402215458\n",
      "Test mean_squared_log_error 0.1516159195455402\n"
     ]
    }
   ],
   "source": [
    "### Model with default parameters; features are scaled\n",
    "RFModel = RandomForestRegressor(oob_score=True,random_state=42).fit(X_train,y_train) # training\n",
    "## \n",
    "# print('Test R^2 score {}'.format(r2_score(y_train, RFModel.predict(X_train))))\n",
    "print('Test R^2 score {}'.format(r2_score(y_test, RFModel.predict(X_test))))\n",
    "print('Test mean_squared_log_error {}'.format(mean_squared_log_error(y_test, RFModel.predict(X_test))))"
   ]
  },
  {
   "cell_type": "markdown",
   "metadata": {},
   "source": [
    "## \n",
    "- hyper parameter tunning\n",
    "- feature engineering"
   ]
  },
  {
   "cell_type": "code",
   "execution_count": 50,
   "metadata": {},
   "outputs": [
    {
     "data": {
      "text/plain": [
       "sklearn.ensemble._forest.RandomForestRegressor"
      ]
     },
     "execution_count": 50,
     "metadata": {},
     "output_type": "execute_result"
    }
   ],
   "source": [
    "RandomForestRegressor"
   ]
  },
  {
   "cell_type": "markdown",
   "metadata": {},
   "source": [
    "- Is the model overfitted?\n",
    "- can we reply on only R^2 score?\n",
    "- Adjusted R^2 score"
   ]
  },
  {
   "cell_type": "code",
   "execution_count": 51,
   "metadata": {},
   "outputs": [],
   "source": [
    "# no. of trees -> 550 \n",
    "# (10 - 1000) -> \n",
    "# (400 - 700)\n",
    "# 100, 1000 => 100\n",
    "# parameter value : scores"
   ]
  },
  {
   "cell_type": "markdown",
   "metadata": {},
   "source": [
    "#### Hyper parameters tunning\n",
    "    - GridSearchCV() => adv(we cover whole feature space) ; dis(computationally expensive)\n",
    "    - RandomSearchCV() => adv(might miss few feature space) ; adv(computationally inexpensive)\n",
    "    -  Normal Loop\n",
    "    \n",
    " Hyper parameters of randomforest\n",
    "- no. of trees\n",
    "- no. samples \n",
    "- depth\n",
    "- max features"
   ]
  },
  {
   "cell_type": "code",
   "execution_count": 52,
   "metadata": {},
   "outputs": [],
   "source": [
    "# n_estimators=100,\n",
    "#     *,\n",
    "#     criterion='mse',\n",
    "#     max_depth=None,\n",
    "#     min_samples_split=2,\n",
    "#     min_samples_leaf=1,\n",
    "#     min_weight_fraction_leaf=0.0,\n",
    "#     max_features='auto',\n",
    "#     max_leaf_nodes=None,\n",
    "#     min_impurity_decrease=0.0,\n",
    "#     min_impurity_split=None,\n",
    "#     bootstrap=True,\n",
    "#     oob_score=False,\n",
    "#     n_jobs=None,"
   ]
  },
  {
   "cell_type": "code",
   "execution_count": 53,
   "metadata": {},
   "outputs": [],
   "source": [
    "param = {'n_estimators':range(50,200,50),\n",
    "        'max_depth': [2,3,4,5,6,7]}\n",
    "\n",
    "grid = GridSearchCV(estimator = RFModel, param_grid=param, cv=3, scoring = 'r2', n_jobs = -1)\n",
    "grid = grid.fit(X_train,y_train)"
   ]
  },
  {
   "cell_type": "code",
   "execution_count": 54,
   "metadata": {},
   "outputs": [
    {
     "data": {
      "text/plain": [
       "<bound method BaseEstimator.get_params of GridSearchCV(cv=3,\n",
       "             estimator=RandomForestRegressor(oob_score=True, random_state=42),\n",
       "             n_jobs=-1,\n",
       "             param_grid={'max_depth': [2, 3, 4, 5, 6, 7],\n",
       "                         'n_estimators': range(50, 200, 50)},\n",
       "             scoring='r2')>"
      ]
     },
     "execution_count": 54,
     "metadata": {},
     "output_type": "execute_result"
    }
   ],
   "source": [
    "grid.get_params"
   ]
  },
  {
   "cell_type": "code",
   "execution_count": 55,
   "metadata": {},
   "outputs": [
    {
     "data": {
      "text/plain": [
       "RandomForestRegressor(max_depth=7, n_estimators=150, oob_score=True,\n",
       "                      random_state=42)"
      ]
     },
     "execution_count": 55,
     "metadata": {},
     "output_type": "execute_result"
    }
   ],
   "source": [
    "grid.best_estimator_"
   ]
  },
  {
   "cell_type": "code",
   "execution_count": 56,
   "metadata": {},
   "outputs": [
    {
     "data": {
      "text/plain": [
       "0.7669781755922026"
      ]
     },
     "execution_count": 56,
     "metadata": {},
     "output_type": "execute_result"
    }
   ],
   "source": [
    "grid.best_score_"
   ]
  },
  {
   "cell_type": "code",
   "execution_count": 57,
   "metadata": {},
   "outputs": [
    {
     "data": {
      "text/html": [
       "<div>\n",
       "<style scoped>\n",
       "    .dataframe tbody tr th:only-of-type {\n",
       "        vertical-align: middle;\n",
       "    }\n",
       "\n",
       "    .dataframe tbody tr th {\n",
       "        vertical-align: top;\n",
       "    }\n",
       "\n",
       "    .dataframe thead th {\n",
       "        text-align: right;\n",
       "    }\n",
       "</style>\n",
       "<table border=\"1\" class=\"dataframe\">\n",
       "  <thead>\n",
       "    <tr style=\"text-align: right;\">\n",
       "      <th></th>\n",
       "      <th>mean_fit_time</th>\n",
       "      <th>std_fit_time</th>\n",
       "      <th>mean_score_time</th>\n",
       "      <th>std_score_time</th>\n",
       "      <th>param_max_depth</th>\n",
       "      <th>param_n_estimators</th>\n",
       "      <th>params</th>\n",
       "      <th>split0_test_score</th>\n",
       "      <th>split1_test_score</th>\n",
       "      <th>split2_test_score</th>\n",
       "      <th>mean_test_score</th>\n",
       "      <th>std_test_score</th>\n",
       "      <th>rank_test_score</th>\n",
       "    </tr>\n",
       "  </thead>\n",
       "  <tbody>\n",
       "    <tr>\n",
       "      <th>17</th>\n",
       "      <td>1.204308</td>\n",
       "      <td>0.148679</td>\n",
       "      <td>0.030318</td>\n",
       "      <td>0.008987</td>\n",
       "      <td>7</td>\n",
       "      <td>150</td>\n",
       "      <td>{'max_depth': 7, 'n_estimators': 150}</td>\n",
       "      <td>0.617916</td>\n",
       "      <td>0.824859</td>\n",
       "      <td>0.858160</td>\n",
       "      <td>0.766978</td>\n",
       "      <td>0.106276</td>\n",
       "      <td>1</td>\n",
       "    </tr>\n",
       "    <tr>\n",
       "      <th>16</th>\n",
       "      <td>1.006422</td>\n",
       "      <td>0.026229</td>\n",
       "      <td>0.028317</td>\n",
       "      <td>0.002624</td>\n",
       "      <td>7</td>\n",
       "      <td>100</td>\n",
       "      <td>{'max_depth': 7, 'n_estimators': 100}</td>\n",
       "      <td>0.618330</td>\n",
       "      <td>0.824893</td>\n",
       "      <td>0.855936</td>\n",
       "      <td>0.766386</td>\n",
       "      <td>0.105456</td>\n",
       "      <td>2</td>\n",
       "    </tr>\n",
       "    <tr>\n",
       "      <th>15</th>\n",
       "      <td>0.559012</td>\n",
       "      <td>0.045611</td>\n",
       "      <td>0.015324</td>\n",
       "      <td>0.004712</td>\n",
       "      <td>7</td>\n",
       "      <td>50</td>\n",
       "      <td>{'max_depth': 7, 'n_estimators': 50}</td>\n",
       "      <td>0.619444</td>\n",
       "      <td>0.809148</td>\n",
       "      <td>0.855003</td>\n",
       "      <td>0.761198</td>\n",
       "      <td>0.101969</td>\n",
       "      <td>3</td>\n",
       "    </tr>\n",
       "    <tr>\n",
       "      <th>14</th>\n",
       "      <td>1.463494</td>\n",
       "      <td>0.076382</td>\n",
       "      <td>0.037979</td>\n",
       "      <td>0.007114</td>\n",
       "      <td>6</td>\n",
       "      <td>150</td>\n",
       "      <td>{'max_depth': 6, 'n_estimators': 150}</td>\n",
       "      <td>0.606748</td>\n",
       "      <td>0.818227</td>\n",
       "      <td>0.839618</td>\n",
       "      <td>0.754864</td>\n",
       "      <td>0.105097</td>\n",
       "      <td>4</td>\n",
       "    </tr>\n",
       "    <tr>\n",
       "      <th>13</th>\n",
       "      <td>0.913809</td>\n",
       "      <td>0.016407</td>\n",
       "      <td>0.032648</td>\n",
       "      <td>0.002356</td>\n",
       "      <td>6</td>\n",
       "      <td>100</td>\n",
       "      <td>{'max_depth': 6, 'n_estimators': 100}</td>\n",
       "      <td>0.606773</td>\n",
       "      <td>0.817206</td>\n",
       "      <td>0.834961</td>\n",
       "      <td>0.752980</td>\n",
       "      <td>0.103638</td>\n",
       "      <td>5</td>\n",
       "    </tr>\n",
       "  </tbody>\n",
       "</table>\n",
       "</div>"
      ],
      "text/plain": [
       "    mean_fit_time  std_fit_time  mean_score_time  std_score_time  \\\n",
       "17       1.204308      0.148679         0.030318        0.008987   \n",
       "16       1.006422      0.026229         0.028317        0.002624   \n",
       "15       0.559012      0.045611         0.015324        0.004712   \n",
       "14       1.463494      0.076382         0.037979        0.007114   \n",
       "13       0.913809      0.016407         0.032648        0.002356   \n",
       "\n",
       "   param_max_depth param_n_estimators                                 params  \\\n",
       "17               7                150  {'max_depth': 7, 'n_estimators': 150}   \n",
       "16               7                100  {'max_depth': 7, 'n_estimators': 100}   \n",
       "15               7                 50   {'max_depth': 7, 'n_estimators': 50}   \n",
       "14               6                150  {'max_depth': 6, 'n_estimators': 150}   \n",
       "13               6                100  {'max_depth': 6, 'n_estimators': 100}   \n",
       "\n",
       "    split0_test_score  split1_test_score  split2_test_score  mean_test_score  \\\n",
       "17           0.617916           0.824859           0.858160         0.766978   \n",
       "16           0.618330           0.824893           0.855936         0.766386   \n",
       "15           0.619444           0.809148           0.855003         0.761198   \n",
       "14           0.606748           0.818227           0.839618         0.754864   \n",
       "13           0.606773           0.817206           0.834961         0.752980   \n",
       "\n",
       "    std_test_score  rank_test_score  \n",
       "17        0.106276                1  \n",
       "16        0.105456                2  \n",
       "15        0.101969                3  \n",
       "14        0.105097                4  \n",
       "13        0.103638                5  "
      ]
     },
     "execution_count": 57,
     "metadata": {},
     "output_type": "execute_result"
    }
   ],
   "source": [
    "pd.DataFrame(grid.cv_results_).sort_values(by = 'mean_test_score', ascending = False).head()"
   ]
  },
  {
   "cell_type": "markdown",
   "metadata": {},
   "source": [
    "The current scores can be further improved by selecting optimal feature space. Kindly work on them as discussed."
   ]
  },
  {
   "cell_type": "markdown",
   "metadata": {},
   "source": [
    "##### Advanced Model\n",
    "    - Xgboost (boosting)\n",
    "    - RandomForest (bagging)"
   ]
  },
  {
   "cell_type": "code",
   "execution_count": null,
   "metadata": {},
   "outputs": [],
   "source": []
  }
 ],
 "metadata": {
  "kernelspec": {
   "display_name": "Python 3",
   "language": "python",
   "name": "python3"
  },
  "language_info": {
   "codemirror_mode": {
    "name": "ipython",
    "version": 3
   },
   "file_extension": ".py",
   "mimetype": "text/x-python",
   "name": "python",
   "nbconvert_exporter": "python",
   "pygments_lexer": "ipython3",
   "version": "3.7.9"
  }
 },
 "nbformat": 4,
 "nbformat_minor": 4
}
